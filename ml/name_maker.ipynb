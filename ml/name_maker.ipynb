{
 "cells": [
  {
   "cell_type": "code",
   "execution_count": 2,
   "metadata": {},
   "outputs": [],
   "source": [
    "import pandas as pd\n",
    "import os\n",
    "import re"
   ]
  },
  {
   "cell_type": "code",
   "execution_count": 3,
   "metadata": {},
   "outputs": [],
   "source": [
    "full_path = \"/app/nse/ml/\"\n",
    "wrong_data_folder = \"output_28_12_2024/\""
   ]
  },
  {
   "cell_type": "code",
   "execution_count": 7,
   "metadata": {},
   "outputs": [],
   "source": [
    "target_full_pd = pd.read_csv(full_path + wrong_data_folder + \"full_target.csv\")\n",
    "is_unnamed = pd.isna(target_full_pd.columns[0]) or str(target_full_pd.columns[0]).startswith('Unnamed:')\n",
    "if is_unnamed:\n",
    "    target_full_pd = target_full_pd.drop(target_full_pd.columns[0], axis=1)\n",
    "\n",
    "features_full_pd = pd.read_csv(full_path + wrong_data_folder + \"full_features.csv\")\n",
    "is_unnamed = pd.isna(features_full_pd.columns[0]) or str(features_full_pd.columns[0]).startswith('Unnamed:')\n",
    "if is_unnamed:\n",
    "    features_full_pd = features_full_pd.drop(features_full_pd.columns[0], axis=1)\n",
    "\n",
    "features_pd = pd.read_csv(full_path + wrong_data_folder + \"features.csv\")\n",
    "is_unnamed = pd.isna(features_pd.columns[0]) or str(features_pd.columns[0]).startswith('Unnamed:')\n",
    "if is_unnamed:\n",
    "    features_pd = features_pd.drop(features_pd.columns[0], axis=1)"
   ]
  },
  {
   "cell_type": "code",
   "execution_count": 5,
   "metadata": {},
   "outputs": [],
   "source": [
    "right_column_f = [\"y\", \"z\", \"u\", \"power\", \"roughness\", \"T\", \"sensible_heat_flux\", \"T_grad\", \"distances\"]\n",
    "right_column_t = [\"c_mean_z\", \"c_mean_y\", \"c_std_z\", \"c_std_z\"]\n",
    "\n",
    "change_column_f = {\"y\": \"y\", \"z\": \"z\", \"u\":\"u\", \"p\": \"power\", \"z0_m\": \"roughness\", \"T0\": \"T\", \n",
    "                   \"value\": \"sensible_heat_flux\", \"grad_z\": \"T_grad\",\"distance\": \"distances\"}\n",
    "change_column_t = {\"mean_z\": \"c_mean_z\", \"mean_y\": \"c_mean_y\", \"std_z\": \"c_std_z\", \"std_y\": \"c_std_y\"}"
   ]
  },
  {
   "cell_type": "code",
   "execution_count": 9,
   "metadata": {},
   "outputs": [
    {
     "data": {
      "text/plain": [
       "Index(['y', 'z', 'u', 'roughness', 'T', 'power', 'sensible_heat_flux',\n",
       "       'T_grad'],\n",
       "      dtype='object')"
      ]
     },
     "execution_count": 9,
     "metadata": {},
     "output_type": "execute_result"
    }
   ],
   "source": [
    "features_pd.columns"
   ]
  },
  {
   "cell_type": "code",
   "execution_count": 8,
   "metadata": {},
   "outputs": [],
   "source": [
    "features_pd.rename(columns=change_column_f, inplace=True)\n",
    "features_full_pd.rename(columns=change_column_f, inplace=True)\n",
    "target_full_pd.rename(columns=change_column_t, inplace=True)\n",
    "\n",
    "features_pd_reord = features_pd.iloc[:, [0, 1, 2, 5, 3, 4, 6, 7]]\n",
    "features_full_pd_reord = features_full_pd.iloc[:, [0, 1, 2, 5, 3, 4, 6, 7, 8]]\n",
    "target_full_pd_reord = target_full_pd.iloc[:, [1, 0, 3, 2]]\n",
    "\n",
    "features_pd_reord.to_csv(full_path + wrong_data_folder + \"features.csv\", index=False)\n",
    "features_full_pd_reord.to_csv(full_path + wrong_data_folder + \"features_full.csv\", index=False)\n",
    "target_full_pd_reord.to_csv(full_path + wrong_data_folder + \"target_full.csv\", index=False)"
   ]
  },
  {
   "cell_type": "code",
   "execution_count": 6,
   "metadata": {},
   "outputs": [],
   "source": [
    "files_in_directory = os.listdir(full_path + wrong_data_folder)\n",
    "file_pattern = r\"target_\\d\"\n",
    "targets_for_one_dist = [file for file in files_in_directory if re.search(file_pattern, file)]\n",
    "for file in targets_for_one_dist:\n",
    "    file_pd = pd.read_csv(full_path + wrong_data_folder+ file)\n",
    "    file_pd.rename(columns=change_column_t, inplace=True)\n",
    "    file_pd_reord = file_pd.iloc[:, [2, 0, 3, 1]]\n",
    "    file_list = file.split(\"_\")\n",
    "    file_pd_reord.to_csv(full_path + wrong_data_folder + \"target-\"+file_list[1]+\"_\"+file_list[2], index=False)\n",
    "    "
   ]
  },
  {
   "cell_type": "code",
   "execution_count": 10,
   "metadata": {},
   "outputs": [],
   "source": [
    "target_full_pd[\"distances\"] = features_full_pd[\"distances\"]\n",
    "distances_list = features_full_pd[\"distances\"].values"
   ]
  },
  {
   "cell_type": "code",
   "execution_count": 12,
   "metadata": {},
   "outputs": [],
   "source": [
    "target_full_pd[\"_tmp_index\"] = target_full_pd.index\n",
    "target_pd_sort = target_full_pd.sort_values(by=[\"distances\", \"_tmp_index\"]) \n",
    "target_pd_sort = target_pd_sort.drop(columns=[\"_tmp_index\"])"
   ]
  },
  {
   "cell_type": "code",
   "execution_count": 13,
   "metadata": {},
   "outputs": [],
   "source": [
    "import numpy as np"
   ]
  },
  {
   "cell_type": "code",
   "execution_count": 14,
   "metadata": {},
   "outputs": [],
   "source": [
    "for dist in np.unique(distances_list):\n",
    "    tmp_table = target_pd_sort[target_pd_sort.distances == dist].dropna().drop(columns=[\"distances\"])\n",
    "    tmp_table.to_csv(full_path + wrong_data_folder + \"target-\" + str(dist).replace(\".\", \"_\") + \".csv\", index=False)"
   ]
  }
 ],
 "metadata": {
  "kernelspec": {
   "display_name": "nse",
   "language": "python",
   "name": "python3"
  },
  "language_info": {
   "codemirror_mode": {
    "name": "ipython",
    "version": 3
   },
   "file_extension": ".py",
   "mimetype": "text/x-python",
   "name": "python",
   "nbconvert_exporter": "python",
   "pygments_lexer": "ipython3",
   "version": "3.12.8"
  }
 },
 "nbformat": 4,
 "nbformat_minor": 2
}

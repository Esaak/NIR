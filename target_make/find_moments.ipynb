{
 "cells": [
  {
   "cell_type": "code",
   "execution_count": 1,
   "metadata": {},
   "outputs": [],
   "source": [
    "import numpy as np \n",
    "import pandas as pd\n",
    "import os\n",
    "import re"
   ]
  },
  {
   "cell_type": "code",
   "execution_count": 2,
   "metadata": {},
   "outputs": [],
   "source": [
    "data_folder = \"output_31_03_2025/\" #\"output_19_01_2025/\" ; \"output_21_03_2025/\", \"output_31_03_2025/\" ; \n",
    "folder_path_outputs = '/app/nse/outputs/' + data_folder\n",
    "file_path_results = '/app/nse/results/' + data_folder"
   ]
  },
  {
   "cell_type": "code",
   "execution_count": 4,
   "metadata": {},
   "outputs": [],
   "source": [
    "x_size = 128\n",
    "y_size = 128\n",
    "z_size = 64\n",
    "x_lenght = 2000\n",
    "y_width = 2000\n",
    "z_height = 1000\n",
    "x_start = 500"
   ]
  },
  {
   "cell_type": "code",
   "execution_count": 5,
   "metadata": {},
   "outputs": [],
   "source": [
    "def read_data(filename):\n",
    "    with open(filename, 'r') as file:\n",
    "        # Skip the first three lines\n",
    "        for _ in range(3):\n",
    "            next(file)\n",
    "        \n",
    "        # Read the rest of the file\n",
    "        data = np.loadtxt(file)\n",
    "    \n",
    "    return data"
   ]
  },
  {
   "cell_type": "code",
   "execution_count": 6,
   "metadata": {},
   "outputs": [],
   "source": [
    "def get_folder_paths(folder_path, folder_pattern):\n",
    "    folder_list = [folder_path + f for f in os.listdir(folder_path) if os.path.isdir(os.path.join(folder_path, f)) and re.search(folder_pattern, f)]\n",
    "    folder_list.sort(key=os.path.getctime)\n",
    "    return folder_list"
   ]
  },
  {
   "cell_type": "code",
   "execution_count": 7,
   "metadata": {},
   "outputs": [],
   "source": [
    "def extract_number(filename):\n",
    "    match = re.search(r'C\\[(\\d+)\\]-avg-\\.plt', filename)\n",
    "    return int(match.group(1)) if match else float('inf') "
   ]
  },
  {
   "cell_type": "code",
   "execution_count": 8,
   "metadata": {},
   "outputs": [],
   "source": [
    "def sort_filenames(filenames):\n",
    "    return sorted(filenames, key=extract_number)"
   ]
  },
  {
   "cell_type": "code",
   "execution_count": 9,
   "metadata": {},
   "outputs": [],
   "source": [
    "def get_filenames(file_path, file_pattern):\n",
    "    file_list = [f for f in os.listdir(file_path) if os.path.isfile(os.path.join(file_path, f)) and re.search(file_pattern, f)]\n",
    "    file_list = sort_filenames(file_list)\n",
    "    return file_list"
   ]
  },
  {
   "cell_type": "code",
   "execution_count": 10,
   "metadata": {},
   "outputs": [],
   "source": [
    "def get_coords_from_np(data, num_coords):\n",
    "    coords = []\n",
    "    for i in range(num_coords):\n",
    "        coord = np.unique(data[:, i])\n",
    "        coords.append(coord)\n",
    "\n",
    "    return coords"
   ]
  },
  {
   "cell_type": "code",
   "execution_count": 11,
   "metadata": {},
   "outputs": [],
   "source": [
    "def get_matrix(data, coords_size):\n",
    "    return np.reshape(data, coords_size) "
   ]
  },
  {
   "cell_type": "code",
   "execution_count": 12,
   "metadata": {},
   "outputs": [],
   "source": [
    "def  get_moments_from_1d(slice, coord):\n",
    "    slice[slice<0]=0\n",
    "    sl_sum = np.sum(slice)\n",
    "    if sl_sum != 0:\n",
    "        slice = np.asarray(slice)/(np.sum(slice))\n",
    "    mean = np.sum(np.asarray(slice) * np.asarray(coord))\n",
    "    std_2 = np.sum((np.asarray(coord) - mean) **2 * np.asarray(slice))\n",
    "    std = np.sqrt(std_2)\n",
    "    return mean, std"
   ]
  },
  {
   "cell_type": "code",
   "execution_count": 13,
   "metadata": {},
   "outputs": [],
   "source": [
    "def get_moments_from_2d(slice, coord_1, coord_2):\n",
    "    slice[slice<0]=0\n",
    "    slice_2 = np.array([np.sum(s) for s in slice])\n",
    "    slice_T = np.array(slice).T\n",
    "    slice_1 = np.array([np.sum(s) for s in slice_T])\n",
    "    mean_1, std_1 = get_moments_from_1d(slice_1, coord_1)\n",
    "    mean_2, std_2 = get_moments_from_1d(slice_2, coord_2)\n",
    "    return mean_1, std_1, mean_2, std_2"
   ]
  },
  {
   "cell_type": "code",
   "execution_count": 14,
   "metadata": {},
   "outputs": [],
   "source": [
    "def get_slice_from_3d(data, distance, coord_name):\n",
    "    match coord_name:\n",
    "        case \"x\":\n",
    "            return data[:,:, distance]\n",
    "        case \"y\":\n",
    "            return data[:, distance, :]\n",
    "        case \"z\":\n",
    "            return data[distance, :, :]"
   ]
  },
  {
   "cell_type": "code",
   "execution_count": 15,
   "metadata": {},
   "outputs": [],
   "source": [
    "def get_slice_from_2d(data, distance, coord_name):\n",
    "    match coord_name:\n",
    "        case 1:\n",
    "            return data[:, distance]\n",
    "        case 2:\n",
    "            return data[distance, :]"
   ]
  },
  {
   "cell_type": "code",
   "execution_count": 16,
   "metadata": {},
   "outputs": [],
   "source": [
    "def get_moments_from_paths_2d(stat_xy_path, stat_xz_path, xy_files, xz_files):\n",
    "    global x_size, y_size, z_size, x_start\n",
    "    dist_list = []\n",
    "    mean_y_list = []\n",
    "    std_y_list = []\n",
    "    mean_z_list = []\n",
    "    std_z_list = []\n",
    "    \n",
    "    for i in range(len(xy_files)):\n",
    "        data_xy = read_data(stat_xy_path + xy_files[i])\n",
    "        \n",
    "        data_xz = read_data(stat_xz_path + xz_files[i])\n",
    "        \n",
    "        coord_x, coord_y = get_coords_from_np(data_xy, 2)\n",
    "        coord_x, coord_z = get_coords_from_np(data_xz, 2)\n",
    "\n",
    "        data_m_xy = get_matrix(data_xy[:, -1], [y_size, x_size]) # y, x\n",
    "        data_m_xz = get_matrix(data_xz[:, -1], [z_size, x_size]) # z, x \n",
    "        start_idx = np.where(coord_x > x_start)[0][0]\n",
    "        for idx in range(start_idx, len(coord_x)):\n",
    "            dist_list.append(coord_x[idx] - x_start)\n",
    "            slice_y = get_slice_from_2d(data_m_xy, idx, 1)\n",
    "            slice_z = get_slice_from_2d(data_m_xz, idx, 1)\n",
    "\n",
    "            mean_y, std_y = get_moments_from_1d(slice_y, coord_y)\n",
    "            mean_z, std_z = get_moments_from_1d(slice_z, coord_z)\n",
    "            \n",
    "            mean_y_list.append(mean_y)\n",
    "            std_y_list.append(std_y)\n",
    "            mean_z_list.append(mean_z)\n",
    "            std_z_list.append(std_z)\n",
    "    return dist_list, mean_y_list, std_y_list, mean_z_list, std_z_list"
   ]
  },
  {
   "cell_type": "code",
   "execution_count": 17,
   "metadata": {},
   "outputs": [],
   "source": [
    "def get_moments_from_paths_3d(stat_path, files):\n",
    "    global x_size, y_size, z_size, x_start\n",
    "    dist_list = []\n",
    "    mean_y_list = []\n",
    "    std_y_list = []\n",
    "    mean_z_list = []\n",
    "    std_z_list = []\n",
    "    \n",
    "    for i in range(len(files)):\n",
    "        data = read_data(stat_path + files[i])\n",
    "        \n",
    "        coord_x, coord_y, coord_z = get_coords_from_np(data, 3)\n",
    "\n",
    "        data_m = get_matrix(data[:, -1], [z_size, y_size, x_size]) # z, y, x\n",
    "        start_idx = np.where(coord_x > x_start)[0][0]\n",
    "        for idx in range(start_idx, len(coord_x)):\n",
    "            dist_list.append(coord_x[idx] - x_start)\n",
    "            slice_yz = get_slice_from_3d(data_m, idx, \"x\") # z, y\n",
    "\n",
    "            mean_y, std_y, mean_z, std_z = get_moments_from_2d(slice_yz, coord_y, coord_z)\n",
    "            \n",
    "            mean_y_list.append(mean_y)\n",
    "            std_y_list.append(std_y)\n",
    "            mean_z_list.append(mean_z)\n",
    "            std_z_list.append(std_z)\n",
    "    return dist_list, mean_y_list, std_y_list, mean_z_list, std_z_list"
   ]
  },
  {
   "cell_type": "code",
   "execution_count": 18,
   "metadata": {},
   "outputs": [],
   "source": [
    "outputs_folder_names = get_folder_paths(folder_path_outputs, \"output*\")"
   ]
  },
  {
   "cell_type": "code",
   "execution_count": 19,
   "metadata": {},
   "outputs": [
    {
     "data": {
      "text/plain": [
       "50"
      ]
     },
     "execution_count": 19,
     "metadata": {},
     "output_type": "execute_result"
    }
   ],
   "source": [
    "len(outputs_folder_names)"
   ]
  },
  {
   "cell_type": "code",
   "execution_count": 20,
   "metadata": {},
   "outputs": [],
   "source": [
    "mean_y_list = []\n",
    "mean_z_list = []\n",
    "std_y_list = []\n",
    "std_z_list = []\n",
    "distances_list = []"
   ]
  },
  {
   "cell_type": "code",
   "execution_count": null,
   "metadata": {},
   "outputs": [],
   "source": [
    "# for folder in outputs_folder_names:\n",
    "#     stat3d_path = folder + \"/stat-3d/\"\n",
    "#     stat3d_files = get_filenames(stat3d_path, r'^C\\[\\d+\\]-avg-\\.plt$')\n",
    "#     dist_tmp, mean_y_tmp, std_y_tmp, mean_z_tmp, std_z_tmp = get_moments_from_paths_3d(stat3d_path, stat3d_files)\n",
    "#     distances_list.extend(dist_tmp)\n",
    "#     mean_y_list.extend(mean_y_tmp)\n",
    "#     mean_z_list.extend(mean_z_tmp)\n",
    "#     std_y_list.extend(std_y_tmp)\n",
    "#     std_z_list.extend(std_z_tmp)"
   ]
  },
  {
   "cell_type": "code",
   "execution_count": 21,
   "metadata": {},
   "outputs": [
    {
     "name": "stdout",
     "output_type": "stream",
     "text": [
      "1\n",
      "2\n",
      "3\n",
      "4\n",
      "5\n",
      "6\n",
      "7\n",
      "8\n",
      "9\n",
      "10\n",
      "11\n",
      "12\n",
      "13\n",
      "14\n",
      "15\n",
      "16\n",
      "17\n",
      "18\n",
      "19\n",
      "20\n",
      "21\n",
      "22\n",
      "23\n",
      "24\n",
      "25\n",
      "26\n",
      "27\n",
      "28\n",
      "29\n",
      "30\n",
      "31\n",
      "32\n",
      "33\n",
      "34\n",
      "35\n",
      "36\n",
      "37\n",
      "38\n",
      "39\n",
      "40\n",
      "41\n",
      "42\n",
      "43\n",
      "44\n",
      "45\n",
      "46\n",
      "47\n",
      "48\n",
      "49\n",
      "50\n",
      "CPU times: user 1min 44s, sys: 5.33 s, total: 1min 50s\n",
      "Wall time: 8min 21s\n"
     ]
    }
   ],
   "source": [
    "%%time\n",
    "i=0\n",
    "for folder in outputs_folder_names:\n",
    "    stat2d_xy_path = folder + \"/stat-2d-XY/\"\n",
    "    stat2d_xy_files = get_filenames(stat2d_xy_path, r'^C\\[\\d+\\]-avg-\\.plt$')\n",
    "    stat2d_xz_path = folder + \"/stat-2d-XZ/\"\n",
    "    stat2d_xz_files = get_filenames(stat2d_xy_path, r'^C\\[\\d+\\]-avg-\\.plt$')\n",
    "    dist_tmp, mean_y_tmp, std_y_tmp, mean_z_tmp, std_z_tmp = get_moments_from_paths_2d(stat2d_xy_path, stat2d_xz_path, stat2d_xy_files, stat2d_xz_files)\n",
    "    distances_list.extend(dist_tmp)\n",
    "    mean_y_list.extend(mean_y_tmp)\n",
    "    mean_z_list.extend(mean_z_tmp)\n",
    "    std_y_list.extend(std_y_tmp)\n",
    "    std_z_list.extend(std_z_tmp)\n",
    "    i+=1\n",
    "    print(i)"
   ]
  },
  {
   "cell_type": "code",
   "execution_count": null,
   "metadata": {},
   "outputs": [
    {
     "name": "stdout",
     "output_type": "stream",
     "text": [
      "(5800, 9)\n"
     ]
    }
   ],
   "source": [
    "# # features_pd = pd.read_csv(file_path_results + \"features_compare.csv\")\n",
    "# features_pd = pd.read_csv(file_path_results + \"features.csv\")\n",
    "# # features_pd[\"distances\"] = distances_list\n",
    "# features_pd[\"Tracer\"] = features_pd[\"Tracer\"].astype(int) \n",
    "# print(features_pd.shape)"
   ]
  },
  {
   "cell_type": "code",
   "execution_count": null,
   "metadata": {},
   "outputs": [],
   "source": [
    "# features_pd.drop(features_pd.tail(100*64).index, inplace = True)\n",
    "# features_pd.insert(\n",
    "#     loc = 0,\n",
    "#     column = \"Tracer\",\n",
    "#     value = list(np.arange(1, 65).astype(int)) * 400  \n",
    "# )\n",
    "# features_pd.to_csv(file_path_results + \"features.csv\", index=False)"
   ]
  },
  {
   "cell_type": "code",
   "execution_count": 25,
   "metadata": {},
   "outputs": [],
   "source": [
    "target_pd = pd.DataFrame({\n",
    "                        \"c_mean_z\": mean_z_list,\n",
    "                        \"c_mean_y\":mean_y_list, \n",
    "                        \"c_std_z\": std_z_list,\n",
    "                        \"c_std_y\": std_y_list})\n",
    "target_pd.to_csv(file_path_results + \"target_full.csv\", index=False)"
   ]
  },
  {
   "cell_type": "code",
   "execution_count": 26,
   "metadata": {},
   "outputs": [],
   "source": [
    "num_distances = 96"
   ]
  },
  {
   "cell_type": "code",
   "execution_count": null,
   "metadata": {},
   "outputs": [],
   "source": [
    "# features_tmp_pd = pd.read_csv(file_path_results + \"features_full.csv\")\n",
    "# distances_list = features_tmp_pd[\"distances\"]"
   ]
  },
  {
   "cell_type": "code",
   "execution_count": 28,
   "metadata": {},
   "outputs": [],
   "source": [
    "features_pd = pd.read_csv(file_path_results + \"features.csv\")\n",
    "features_full = features_pd.loc[features_pd.index.repeat(num_distances)].reset_index(drop=True)\n",
    "features_full[\"distances\"] = distances_list\n",
    "features_full.to_csv(file_path_results +\"features_full.csv\", index=False)"
   ]
  },
  {
   "cell_type": "code",
   "execution_count": 27,
   "metadata": {},
   "outputs": [],
   "source": [
    "target_pd[\"distances\"] = distances_list\n",
    "target_pd[\"_tmp_index\"] = target_pd.index\n",
    "target_pd_sort = target_pd.sort_values(by=[\"distances\", \"_tmp_index\"]) \n",
    "target_pd_sort = target_pd_sort.drop(columns=[\"_tmp_index\"])"
   ]
  },
  {
   "cell_type": "code",
   "execution_count": 29,
   "metadata": {},
   "outputs": [],
   "source": [
    "for dist in np.unique(distances_list):\n",
    "    tmp_table = target_pd_sort[target_pd_sort.distances == dist].dropna().drop(columns=[\"distances\"])\n",
    "    tmp_table.to_csv(file_path_results + \"target-\" + str(dist).replace(\".\", \"_\") + \".csv\", index=False)"
   ]
  }
 ],
 "metadata": {
  "kernelspec": {
   "display_name": "Python 3",
   "language": "python",
   "name": "python3"
  },
  "language_info": {
   "codemirror_mode": {
    "name": "ipython",
    "version": 3
   },
   "file_extension": ".py",
   "mimetype": "text/x-python",
   "name": "python",
   "nbconvert_exporter": "python",
   "pygments_lexer": "ipython3",
   "version": "3.10.12"
  }
 },
 "nbformat": 4,
 "nbformat_minor": 2
}

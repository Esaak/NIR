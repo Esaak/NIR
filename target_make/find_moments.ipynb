{
 "cells": [
  {
   "cell_type": "code",
   "execution_count": 1,
   "metadata": {},
   "outputs": [],
   "source": [
    "import numpy as np \n",
    "import pandas as pd\n",
    "import os\n",
    "import re"
   ]
  },
  {
   "cell_type": "code",
   "execution_count": 2,
   "metadata": {},
   "outputs": [],
   "source": [
    "data_folder = \"data_28_12_2024/\"\n",
    "folder_path_outputs = '/app/nse/outputs/' + data_folder\n",
    "file_path_results = '/app/nse/py_code/results/' + data_folder"
   ]
  },
  {
   "cell_type": "code",
   "execution_count": 3,
   "metadata": {},
   "outputs": [],
   "source": [
    "x_size = 128\n",
    "y_size = 128\n",
    "z_size = 64\n",
    "x_lenght = 2000\n",
    "y_width = 2000\n",
    "z_height = 1000\n",
    "x_start = 500"
   ]
  },
  {
   "cell_type": "code",
   "execution_count": 4,
   "metadata": {},
   "outputs": [],
   "source": [
    "def read_data(filename):\n",
    "    with open(filename, 'r') as file:\n",
    "        # Skip the first three lines\n",
    "        for _ in range(3):\n",
    "            next(file)\n",
    "        \n",
    "        # Read the rest of the file\n",
    "        data = np.loadtxt(file)\n",
    "    \n",
    "    return data"
   ]
  },
  {
   "cell_type": "code",
   "execution_count": 5,
   "metadata": {},
   "outputs": [],
   "source": [
    "def get_folder_paths(folder_path, folder_pattern):\n",
    "    folder_list = [folder_path + f for f in os.listdir(folder_path) if os.path.isdir(os.path.join(folder_path, f)) and re.search(folder_pattern, f)]\n",
    "    folder_list.sort(key=os.path.getctime)\n",
    "    return folder_list"
   ]
  },
  {
   "cell_type": "code",
   "execution_count": 6,
   "metadata": {},
   "outputs": [],
   "source": [
    "def extract_number(filename):\n",
    "    match = re.search(r'C\\[(\\d+)\\]-avg-\\.plt', filename)\n",
    "    return int(match.group(1)) if match else float('inf') "
   ]
  },
  {
   "cell_type": "code",
   "execution_count": 7,
   "metadata": {},
   "outputs": [],
   "source": [
    "def sort_filenames(filenames):\n",
    "    return sorted(filenames, key=extract_number)"
   ]
  },
  {
   "cell_type": "code",
   "execution_count": 8,
   "metadata": {},
   "outputs": [],
   "source": [
    "def get_filenames(file_path, file_pattern):\n",
    "    file_list = [f for f in os.listdir(file_path) if os.path.isfile(os.path.join(file_path, f)) and re.search(file_pattern, f)]\n",
    "    file_list = sort_filenames(file_list)\n",
    "    return file_list"
   ]
  },
  {
   "cell_type": "code",
   "execution_count": 9,
   "metadata": {},
   "outputs": [],
   "source": [
    "def get_coords_from_np(data, num_coords):\n",
    "    coords = []\n",
    "    for i in range(num_coords):\n",
    "        coord = np.unique(data[:, i])\n",
    "        coords.append(coord)\n",
    "\n",
    "    return coords"
   ]
  },
  {
   "cell_type": "code",
   "execution_count": 10,
   "metadata": {},
   "outputs": [],
   "source": [
    "def get_matrix(data, coords_size):\n",
    "    return np.reshape(data, coords_size) "
   ]
  },
  {
   "cell_type": "code",
   "execution_count": 11,
   "metadata": {},
   "outputs": [],
   "source": [
    "def get_moments_from_1d(slice, coord):\n",
    "    slice[slice<0]=0\n",
    "    slice = np.asarray(slice)/(np.sum(slice))\n",
    "    mean = np.sum(np.asarray(slice) * np.asarray(coord))\n",
    "    std_2 = np.sum((np.asarray(coord) - mean) **2 * np.asarray(slice))\n",
    "    std = np.sqrt(std_2)\n",
    "    return mean, std"
   ]
  },
  {
   "cell_type": "code",
   "execution_count": 12,
   "metadata": {},
   "outputs": [],
   "source": [
    "def get_moments_from_2d(slice, coord_1, coord_2):\n",
    "    slice[slice<0]=0\n",
    "    slice_2 = np.array([np.sum(s) for s in slice])\n",
    "    slice_T = np.array(slice).T\n",
    "    slice_1 = np.array([np.sum(s) for s in slice_T])\n",
    "    mean_1, std_1 = get_moments_from_1d(slice_1, coord_1)\n",
    "    mean_2, std_2 = get_moments_from_1d(slice_2, coord_2)\n",
    "    return mean_1, std_1, mean_2, std_2"
   ]
  },
  {
   "cell_type": "code",
   "execution_count": 13,
   "metadata": {},
   "outputs": [],
   "source": [
    "def get_slice_from_3d(data, distance, coord_name):\n",
    "    match coord_name:\n",
    "        case \"x\":\n",
    "            return data[:,:, distance]\n",
    "        case \"y\":\n",
    "            return data[:, distance, :]\n",
    "        case \"z\":\n",
    "            return data[distance, :, :]"
   ]
  },
  {
   "cell_type": "code",
   "execution_count": 14,
   "metadata": {},
   "outputs": [],
   "source": [
    "def get_slice_from_2d(data, distance, coord_name):\n",
    "    match coord_name:\n",
    "        case 1:\n",
    "            return data[:, distance]\n",
    "        case 2:\n",
    "            return data[distance, :]"
   ]
  },
  {
   "cell_type": "code",
   "execution_count": 32,
   "metadata": {},
   "outputs": [],
   "source": [
    "def get_moments_from_paths_2d(stat_xy_path, stat_xz_path, xy_files, xz_files):\n",
    "    global x_size, y_size, z_size, x_start\n",
    "    dist_list = []\n",
    "    mean_y_list = []\n",
    "    std_y_list = []\n",
    "    mean_z_list = []\n",
    "    std_z_list = []\n",
    "    \n",
    "    for i in range(len(xy_files)):\n",
    "        data_xy = read_data(stat_xy_path + xy_files[i])\n",
    "        \n",
    "        data_xz = read_data(stat_xz_path + xz_files[i])\n",
    "        \n",
    "        coord_x, coord_y = get_coords_from_np(data_xy, 2)\n",
    "        coord_x, coord_z = get_coords_from_np(data_xz, 2)\n",
    "\n",
    "        data_m_xy = get_matrix(data_xy[:, -1], [y_size, x_size]) # y, x\n",
    "        data_m_xz = get_matrix(data_xz[:, -1], [z_size, x_size]) # z, x \n",
    "        start_idx = np.where(coord_x > x_start)[0]\n",
    "        for idx in range(start_idx, len(coord_x)):\n",
    "            dist_list.append(coord_x[idx] - x_start)\n",
    "            slice_y = get_slice_from_2d(data_m_xy, idx, 2)\n",
    "            slice_z = get_slice_from_2d(data_m_xz, idx, 2)\n",
    "\n",
    "            mean_y, std_y = get_moments_from_1d(slice_y, coord_y)\n",
    "            mean_z, std_z = get_moments_from_1d(slice_z, coord_z)\n",
    "            \n",
    "            mean_y_list.append(mean_y)\n",
    "            std_y_list.append(std_y)\n",
    "            mean_z_list.append(mean_z)\n",
    "            std_z_list.append(std_z)\n",
    "    return dist_list, mean_y_list, std_y_list, mean_z_list, std_z_list"
   ]
  },
  {
   "cell_type": "code",
   "execution_count": 34,
   "metadata": {},
   "outputs": [],
   "source": [
    "def get_moments_from_paths_3d(stat_path, files):\n",
    "    global x_size, y_size, z_size, x_start\n",
    "    dist_list = []\n",
    "    mean_y_list = []\n",
    "    std_y_list = []\n",
    "    mean_z_list = []\n",
    "    std_z_list = []\n",
    "    \n",
    "    for i in range(len(files)):\n",
    "        data = read_data(stat_path + files[i])\n",
    "        \n",
    "        coord_x, coord_y, coord_z = get_coords_from_np(data, 3)\n",
    "\n",
    "        data_m = get_matrix(data[:, -1], [z_size, y_size, x_size]) # z, y, x\n",
    "        start_idx = np.where(coord_x > x_start)[0]\n",
    "        for idx in range(start_idx, len(coord_x)):\n",
    "            dist_list.append(coord_x[idx] - x_start)\n",
    "            slice_yz = get_slice_from_3d(data_m, idx, \"x\") # z, y\n",
    "\n",
    "            mean_y, std_y, mean_z, std_z = get_moments_from_2d(slice_yz, coord_y, coord_z)\n",
    "            \n",
    "            mean_y_list.append(mean_y)\n",
    "            std_y_list.append(std_y)\n",
    "            mean_z_list.append(mean_z)\n",
    "            std_z_list.append(std_z)\n",
    "    return dist_list, mean_y_list, std_y_list, mean_z_list, std_z_list"
   ]
  },
  {
   "cell_type": "code",
   "execution_count": 17,
   "metadata": {},
   "outputs": [],
   "source": [
    "outputs_folder_names = get_folder_paths(folder_path_outputs, \"output*\")"
   ]
  },
  {
   "cell_type": "code",
   "execution_count": 18,
   "metadata": {},
   "outputs": [],
   "source": [
    "mean_y_list = []\n",
    "mean_z_list = []\n",
    "std_y_list = []\n",
    "std_z_list = []\n",
    "distances_list = []"
   ]
  },
  {
   "cell_type": "code",
   "execution_count": 35,
   "metadata": {},
   "outputs": [
    {
     "name": "stdout",
     "output_type": "stream",
     "text": [
      "320.3125 1101.5625 1414.0625 5.537695\n"
     ]
    }
   ],
   "source": [
    "for folder in outputs_folder_names:\n",
    "    stat3d_path = folder + \"/stat-3d/\"slice[slice<0]=0\n",
    "    stat3d_files = get_filenames(stat3d_path, r'^C\\[\\d+\\]-avg-\\.plt$')\n",
    "    dist_tmp, mean_y_tmp, std_y_tmp, mean_z_tmp, std_z_tmp = get_moments_from_paths_3d(stat3d_path, stat3d_files)\n",
    "    distances_list.extend(dist_tmp)\n",
    "    mean_y_list.extend(mean_y_tmp)\n",
    "    mean_z_list.extend(mean_z_tmp)\n",
    "    std_y_list.extend(std_y_tmp)\n",
    "    std_z_list.extend(std_z_tmp)"
   ]
  },
  {
   "cell_type": "code",
   "execution_count": 33,
   "metadata": {},
   "outputs": [
    {
     "name": "stdout",
     "output_type": "stream",
     "text": [
      "789.0625 710.9375 -0.000124\n"
     ]
    }
   ],
   "source": [
    "for folder in outputs_folder_names:\n",
    "    stat2d_xy_path = folder + \"/stat-2d-XY/\"\n",
    "    stat2d_xy_files = get_filenames(stat2d_xy_path, r'^C\\[\\d+\\]-avg-\\.plt$')\n",
    "    stat2d_xz_path = folder + \"/stat-2d-XZ/\"\n",
    "    stat2d_xz_files = get_filenames(stat2d_xy_path, r'^C\\[\\d+\\]-avg-\\.plt$')\n",
    "    dist_tmp, mean_y_tmp, std_y_tmp, mean_z_tmp, std_z_tmp = get_moments_from_paths_2d(stat2d_xy_path, stat2d_xz_path, stat2d_xy_files, stat2d_xz_files)\n",
    "    distances_list.extend(dist_tmp)\n",
    "    mean_y_list.extend(mean_y_tmp)\n",
    "    mean_z_list.extend(mean_z_tmp)\n",
    "    std_y_list.extend(std_y_tmp)\n",
    "    std_z_list.extend(std_z_tmp)"
   ]
  },
  {
   "cell_type": "code",
   "execution_count": null,
   "metadata": {},
   "outputs": [],
   "source": []
  },
  {
   "cell_type": "code",
   "execution_count": null,
   "metadata": {},
   "outputs": [],
   "source": [
    "features_pd = pd.read_csv(file_path_results + \"features.csv\")\n",
    "# features_pd[\"distances\"] = distances_list\n",
    "features_pd.to_csv(file_path_results + \"features.csv\")"
   ]
  },
  {
   "cell_type": "code",
   "execution_count": null,
   "metadata": {},
   "outputs": [],
   "source": [
    "target_pd = pd.DataFrame({\"mean_y\":mean_y_list, \n",
    "                          \"mean_z\": mean_z_list,\n",
    "                          \"std_y\": std_y_list,\n",
    "                          \"std_z\": std_z_list})\n",
    "target_pd.to_csv(file_path_results + \"target_full.csv\")"
   ]
  },
  {
   "cell_type": "code",
   "execution_count": null,
   "metadata": {},
   "outputs": [],
   "source": [
    "num_distances = 96"
   ]
  },
  {
   "cell_type": "code",
   "execution_count": null,
   "metadata": {},
   "outputs": [],
   "source": [
    "features_pd = pd.read_csv(file_path_results + \"features.csv\")\n",
    "features_full = features_pd.loc(features_pd.index.repeat(num_distances)).reset_index(drop=True)\n",
    "features_full[\"distances\"] = distances_list\n",
    "features_full.to_csv(\"target_full.csv\", index=False)"
   ]
  },
  {
   "cell_type": "code",
   "execution_count": null,
   "metadata": {},
   "outputs": [],
   "source": [
    "target_pd[\"distances\"] = distances_list\n",
    "target_pd[\"_tmp_index\"] = target_pd.index\n",
    "target_pd_sort = target_pd_sort.sort(by=[\"distances\", \"_tmp_index\"]) \n",
    "target_pd_sort = target_pd_sort.drop(columns=[\"_tmp_index\"])"
   ]
  },
  {
   "cell_type": "code",
   "execution_count": null,
   "metadata": {},
   "outputs": [],
   "source": [
    "for dist in np.unique(distances_list):\n",
    "    tmp_table = target_pd_sort[target_pd_sort.distances == dist].dropna().drop(columns=[\"distances\"])\n",
    "    tmp_table.to_csv(file_path_results + \"targets_\" + str(dist).replace(\".\", \"_\")\".csv\")"
   ]
  }
 ],
 "metadata": {
  "kernelspec": {
   "display_name": "Python 3",
   "language": "python",
   "name": "python3"
  },
  "language_info": {
   "codemirror_mode": {
    "name": "ipython",
    "version": 3
   },
   "file_extension": ".py",
   "mimetype": "text/x-python",
   "name": "python",
   "nbconvert_exporter": "python",
   "pygments_lexer": "ipython3",
   "version": "3.10.12"
  }
 },
 "nbformat": 4,
 "nbformat_minor": 2
}

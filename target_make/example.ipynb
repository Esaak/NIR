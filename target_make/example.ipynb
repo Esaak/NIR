{
 "cells": [
  {
   "cell_type": "code",
   "execution_count": null,
   "metadata": {},
   "outputs": [
    {
     "ename": "",
     "evalue": "",
     "output_type": "error",
     "traceback": [
      "\u001b[1;31mFailed to start the Kernel 'nse-torch (Python 3.10.12)'. \n",
      "\u001b[1;31mView Jupyter <a href='command:jupyter.viewOutput'>log</a> for further details. Unexpected end of JSON input"
     ]
    }
   ],
   "source": [
    "import numpy as np\n",
    "import pandas as pd"
   ]
  },
  {
   "cell_type": "code",
   "execution_count": null,
   "metadata": {},
   "outputs": [],
   "source": [
    "import plot3d"
   ]
  },
  {
   "cell_type": "code",
   "execution_count": null,
   "metadata": {},
   "outputs": [],
   "source": [
    "def Gauss(x, y, z, std_y, std_z, mean_y, mean_z):\n",
    "    X, Y, Z = np.meshgrid(x, y, z)\n",
    "    return 1/(2*np.pi*std_y*std_z)*np.exp(-(Y-mean_y)**2/(2*std_y**2) - (Z-mean_z)**2/(2*std_z**2) - (Z + mean_z)**2/(2*std_z**2))"
   ]
  },
  {
   "cell_type": "code",
   "execution_count": null,
   "metadata": {},
   "outputs": [],
   "source": [
    "def Gauss(x, y, z, std_y, std_z, mean_y, mean_z):\n",
    "    data_x = []\n",
    "    data_y = []\n",
    "    data_z = []\n",
    "    data = []\n",
    "    for idx_z in z:\n",
    "        for idx_y in y:\n",
    "            for i, idx_x in enumerate(x):\n",
    "                data_x.append(idx_x)\n",
    "                data_y.append(idx_y)\n",
    "                data_z.append(idx_z)\n",
    "                c = 1/(2*np.pi*std_y[i]*std_z[i])*np.exp(-(idx_y-mean_y)**2/(2*std_y[i]**2) - (idx_z-mean_z)**2/(2*std_z[i]**2) - (idx_z + mean_z)**2/(2*std_z[i]**2))\n",
    "                data.append(idx_x)\n",
    "    res = []\n",
    "    res.append(data_x)\n",
    "    res.append(data_y)\n",
    "    res.append(data_z)\n",
    "    res.append(data)\n",
    "    return res"
   ]
  },
  {
   "cell_type": "code",
   "execution_count": null,
   "metadata": {},
   "outputs": [],
   "source": [
    "x = np.arange(7.8125, 2000, 15.625)\n",
    "y = x.copy()\n",
    "z = np.arange(7.8125, 1000, 15.625)"
   ]
  },
  {
   "cell_type": "code",
   "execution_count": null,
   "metadata": {},
   "outputs": [],
   "source": [
    "std_y = 0.1 * x\n",
    "std_z = 0.08 * x\n",
    "mean_y = 1000\n",
    "mean_z = 500"
   ]
  },
  {
   "cell_type": "code",
   "execution_count": null,
   "metadata": {},
   "outputs": [],
   "source": [
    "C = Gauss(x, y, z, std_y, std_z, mean_y, mean_z)"
   ]
  }
 ],
 "metadata": {
  "kernelspec": {
   "display_name": "Python 3",
   "language": "python",
   "name": "python3"
  },
  "language_info": {
   "name": "python",
   "version": "3.10.12"
  }
 },
 "nbformat": 4,
 "nbformat_minor": 2
}

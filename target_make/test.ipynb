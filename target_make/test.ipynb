{
 "cells": [
  {
   "cell_type": "code",
   "execution_count": 1,
   "metadata": {},
   "outputs": [],
   "source": [
    "import numpy as np\n",
    "import pandas as pd\n",
    "import matplotlib.pyplot as plt"
   ]
  },
  {
   "cell_type": "code",
   "execution_count": 2,
   "metadata": {},
   "outputs": [],
   "source": [
    "import plot3d"
   ]
  },
  {
   "cell_type": "code",
   "execution_count": 3,
   "metadata": {},
   "outputs": [],
   "source": [
    "def Gauss(x, y, z, std_y, std_z, mean_y, mean_z):\n",
    "    data_x = []\n",
    "    data_y = []\n",
    "    data_z = []\n",
    "    data = []\n",
    "    answ = []\n",
    "    for idx_z in z:\n",
    "        for idx_y in y:\n",
    "            for i, idx_x in enumerate(x):\n",
    "                data_x.append(idx_x)\n",
    "                data_y.append(idx_y)\n",
    "                data_z.append(idx_z)\n",
    "                c = 1/(2*np.pi*std_y[i]*std_z[i])*np.exp(-(idx_y-mean_y)**2/(2*std_y[i]**2) - (idx_z-mean_z)**2/(2*std_z[i]**2) - (idx_z + mean_z)**2/(2*std_z[i]**2))\n",
    "                data.append(c)\n",
    "                tmp = [idx_x, idx_y, idx_z, c]\n",
    "                answ.append(tmp)\n",
    "    res = []\n",
    "    res.append(data_x)\n",
    "    res.append(data_y)\n",
    "    res.append(data_z)\n",
    "    res.append(data)\n",
    "    return res, answ"
   ]
  },
  {
   "cell_type": "code",
   "execution_count": 4,
   "metadata": {},
   "outputs": [],
   "source": [
    "x = np.arange(7.8125, 2000, 15.625)\n",
    "y = x.copy()\n",
    "z = np.arange(7.8125, 1000, 15.625)\n",
    "x_lenght = 2000\n",
    "y_width = 2000\n",
    "z_height = 1000"
   ]
  },
  {
   "cell_type": "code",
   "execution_count": 5,
   "metadata": {},
   "outputs": [],
   "source": [
    "std_y = 1 * x\n",
    "std_z = 5* x\n",
    "mean_y = 1000\n",
    "mean_z = 500"
   ]
  },
  {
   "cell_type": "code",
   "execution_count": 6,
   "metadata": {},
   "outputs": [],
   "source": [
    "res, data_3d = Gauss(x, y, z, std_y, std_z, mean_y, mean_z)\n",
    "data_3d = np.array(data_3d)"
   ]
  },
  {
   "cell_type": "code",
   "execution_count": 7,
   "metadata": {},
   "outputs": [
    {
     "data": {
      "text/plain": [
       "(1048576, 4)"
      ]
     },
     "execution_count": 7,
     "metadata": {},
     "output_type": "execute_result"
    }
   ],
   "source": [
    "data_3d.shape"
   ]
  },
  {
   "cell_type": "code",
   "execution_count": 27,
   "metadata": {},
   "outputs": [
    {
     "name": "stdout",
     "output_type": "stream",
     "text": [
      "800974\n"
     ]
    }
   ],
   "source": [
    "print(len(data_3d[data_3d[:, 3] > 1e-8]))"
   ]
  },
  {
   "cell_type": "code",
   "execution_count": 30,
   "metadata": {},
   "outputs": [
    {
     "data": {
      "text/plain": [
       "(array([6.26080e+05, 2.22906e+05, 7.40120e+04, 3.68840e+04, 2.19980e+04,\n",
       "        1.46740e+04, 1.04960e+04, 7.72600e+03, 6.02000e+03, 4.81800e+03,\n",
       "        3.83800e+03, 3.03200e+03, 2.36200e+03, 1.95200e+03, 1.64200e+03,\n",
       "        1.35200e+03, 1.08600e+03, 9.76000e+02, 7.98000e+02, 6.92000e+02,\n",
       "        6.16000e+02, 5.64000e+02, 4.26000e+02, 4.32000e+02, 3.52000e+02,\n",
       "        3.12000e+02, 3.10000e+02, 2.46000e+02, 2.28000e+02, 1.94000e+02,\n",
       "        2.12000e+02, 1.44000e+02, 1.48000e+02, 1.36000e+02, 1.46000e+02,\n",
       "        8.60000e+01, 9.20000e+01, 8.60000e+01, 8.20000e+01, 7.40000e+01,\n",
       "        4.40000e+01, 5.20000e+01, 6.00000e+01, 4.40000e+01, 3.40000e+01,\n",
       "        3.40000e+01, 3.40000e+01, 2.20000e+01, 1.20000e+01, 1.00000e+01]),\n",
       " array([0.00000000e+00, 2.33341134e-08, 4.66682269e-08, 7.00023403e-08,\n",
       "        9.33364537e-08, 1.16670567e-07, 1.40004681e-07, 1.63338794e-07,\n",
       "        1.86672907e-07, 2.10007021e-07, 2.33341134e-07, 2.56675248e-07,\n",
       "        2.80009361e-07, 3.03343475e-07, 3.26677588e-07, 3.50011702e-07,\n",
       "        3.73345815e-07, 3.96679928e-07, 4.20014042e-07, 4.43348155e-07,\n",
       "        4.66682269e-07, 4.90016382e-07, 5.13350496e-07, 5.36684609e-07,\n",
       "        5.60018722e-07, 5.83352836e-07, 6.06686949e-07, 6.30021063e-07,\n",
       "        6.53355176e-07, 6.76689290e-07, 7.00023403e-07, 7.23357516e-07,\n",
       "        7.46691630e-07, 7.70025743e-07, 7.93359857e-07, 8.16693970e-07,\n",
       "        8.40028084e-07, 8.63362197e-07, 8.86696311e-07, 9.10030424e-07,\n",
       "        9.33364537e-07, 9.56698651e-07, 9.80032764e-07, 1.00336688e-06,\n",
       "        1.02670099e-06, 1.05003510e-06, 1.07336922e-06, 1.09670333e-06,\n",
       "        1.12003744e-06, 1.14337156e-06, 1.16670567e-06]),\n",
       " <BarContainer object of 50 artists>)"
      ]
     },
     "execution_count": 30,
     "metadata": {},
     "output_type": "execute_result"
    },
    {
     "data": {
      "image/png": "[encoded data removed]",
      "text/plain": [
       "<Figure size 640x480 with 1 Axes>"
      ]
     },
     "metadata": {},
     "output_type": "display_data"
    }
   ],
   "source": [
    "plt.hist(data_3d[:, 3], bins=50)"
   ]
  },
  {
   "cell_type": "code",
   "execution_count": 26,
   "metadata": {},
   "outputs": [],
   "source": [
    "fig = plot3d.plot_3d_scalar(data_3d[data_3d[:, 3] > 1e-8], x_lenght, y_width, z_height)\n",
    "fig.write_html(\"3d_mean_plot.html\")\n",
    "# fig.show()"
   ]
  },
  {
   "cell_type": "code",
   "execution_count": null,
   "metadata": {},
   "outputs": [],
   "source": []
  }
 ],
 "metadata": {
  "kernelspec": {
   "display_name": "Python 3",
   "language": "python",
   "name": "python3"
  },
  "language_info": {
   "codemirror_mode": {
    "name": "ipython",
    "version": 3
   },
   "file_extension": ".py",
   "mimetype": "text/x-python",
   "name": "python",
   "nbconvert_exporter": "python",
   "pygments_lexer": "ipython3",
   "version": "3.10.12"
  }
 },
 "nbformat": 4,
 "nbformat_minor": 2
}

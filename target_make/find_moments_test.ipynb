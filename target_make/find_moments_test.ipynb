{
 "cells": [
  {
   "cell_type": "code",
   "execution_count": 1,
   "metadata": {},
   "outputs": [],
   "source": [
    "import numpy as np \n",
    "import pandas as pd\n",
    "import os\n",
    "import re"
   ]
  },
  {
   "cell_type": "code",
   "execution_count": 2,
   "metadata": {},
   "outputs": [],
   "source": [
    "import matplotlib.pyplot as plt"
   ]
  },
  {
   "cell_type": "code",
   "execution_count": 3,
   "metadata": {},
   "outputs": [],
   "source": [
    "def Gauss(x, y, z, std_y, std_z, mean_y, mean_z):\n",
    "    data_x = []\n",
    "    data_y = []\n",
    "    data_z = []\n",
    "    data = []\n",
    "    for idx_z in z:\n",
    "        for idx_y in y:\n",
    "            for i, idx_x in enumerate(x):\n",
    "                data_x.append(idx_x)\n",
    "                data_y.append(idx_y)\n",
    "                data_z.append(idx_z)\n",
    "                c = 1/(2*np.pi*std_y[i]*std_z[i])*np.exp(-(idx_y-mean_y)**2/(2*std_y[i]**2) - (idx_z-mean_z)**2/(2*std_z[i]**2))\n",
    "                data.append(c)\n",
    "    res = []\n",
    "    res.append(data_x)\n",
    "    res.append(data_y)\n",
    "    res.append(data_z)\n",
    "    res.append(data)\n",
    "    return res"
   ]
  },
  {
   "cell_type": "code",
   "execution_count": 6,
   "metadata": {},
   "outputs": [],
   "source": [
    "# data_folder = \"for_visualization_05_02_2025/\"\n",
    "data_folder = \"output_19_01_2025/\"\n",
    "folder_path_outputs = '/app/nse/outputs/' + data_folder\n",
    "file_path_results = '/app/nse/results/' + data_folder"
   ]
  },
  {
   "cell_type": "code",
   "execution_count": 9,
   "metadata": {},
   "outputs": [],
   "source": [
    "x_size = 128\n",
    "y_size = 128\n",
    "z_size = 64\n",
    "x_lenght = 2000\n",
    "y_width = 2000\n",
    "z_height = 1000\n",
    "x_start = 500"
   ]
  },
  {
   "cell_type": "code",
   "execution_count": 8,
   "metadata": {},
   "outputs": [],
   "source": [
    "def read_data(filename):\n",
    "    with open(filename, 'r') as file:\n",
    "        # Skip the first three lines\n",
    "        for _ in range(3):\n",
    "            next(file)\n",
    "        \n",
    "        # Read the rest of the file\n",
    "        data = np.loadtxt(file)\n",
    "    \n",
    "    return data"
   ]
  },
  {
   "cell_type": "code",
   "execution_count": 10,
   "metadata": {},
   "outputs": [],
   "source": [
    "def get_folder_paths(folder_path, folder_pattern):\n",
    "    folder_list = [folder_path + f for f in os.listdir(folder_path) if os.path.isdir(os.path.join(folder_path, f)) and re.search(folder_pattern, f)]\n",
    "    folder_list.sort(key=os.path.getctime)\n",
    "    return folder_list"
   ]
  },
  {
   "cell_type": "code",
   "execution_count": 11,
   "metadata": {},
   "outputs": [],
   "source": [
    "def extract_number(filename):\n",
    "    match = re.search(r'C\\[(\\d+)\\]-avg-\\.plt', filename)\n",
    "    return int(match.group(1)) if match else float('inf') "
   ]
  },
  {
   "cell_type": "code",
   "execution_count": 12,
   "metadata": {},
   "outputs": [],
   "source": [
    "def sort_filenames(filenames):\n",
    "    return sorted(filenames, key=extract_number)"
   ]
  },
  {
   "cell_type": "code",
   "execution_count": 13,
   "metadata": {},
   "outputs": [],
   "source": [
    "def get_filenames(file_path, file_pattern):\n",
    "    file_list = [f for f in os.listdir(file_path) if os.path.isfile(os.path.join(file_path, f)) and re.search(file_pattern, f)]\n",
    "    file_list = sort_filenames(file_list)\n",
    "    return file_list"
   ]
  },
  {
   "cell_type": "code",
   "execution_count": 14,
   "metadata": {},
   "outputs": [],
   "source": [
    "def get_coords_from_np(data, num_coords):\n",
    "    coords = []\n",
    "    for i in range(num_coords):\n",
    "        coord = np.unique(data[:, i])\n",
    "        coords.append(coord)\n",
    "\n",
    "    return coords"
   ]
  },
  {
   "cell_type": "code",
   "execution_count": 15,
   "metadata": {},
   "outputs": [],
   "source": [
    "def get_matrix(data, coords_size):\n",
    "    return np.reshape(data, coords_size) "
   ]
  },
  {
   "cell_type": "code",
   "execution_count": 16,
   "metadata": {},
   "outputs": [],
   "source": [
    "def get_moments_from_1d(slice, coord):\n",
    "    slice[slice<0]=0\n",
    "    sl_sum = np.sum(slice)\n",
    "    if sl_sum != 0:\n",
    "        slice = np.asarray(slice)/(np.sum(slice))\n",
    "    mean = np.sum(np.asarray(slice) * np.asarray(coord))\n",
    "    std_2 = np.sum((np.asarray(coord) - mean) **2 * np.asarray(slice))\n",
    "    std = np.sqrt(std_2)\n",
    "    return mean, std"
   ]
  },
  {
   "cell_type": "code",
   "execution_count": 17,
   "metadata": {},
   "outputs": [],
   "source": [
    "def get_moments_from_2d(slice, coord_1, coord_2):\n",
    "    slice[slice<0]=0\n",
    "    slice_2 = np.array([np.sum(s) for s in slice])\n",
    "    slice_T = np.array(slice).T\n",
    "    slice_1 = np.array([np.sum(s) for s in slice_T])\n",
    "    mean_1, std_1 = get_moments_from_1d(slice_1, coord_1)\n",
    "    mean_2, std_2 = get_moments_from_1d(slice_2, coord_2)\n",
    "    return mean_1, std_1, mean_2, std_2"
   ]
  },
  {
   "cell_type": "code",
   "execution_count": 18,
   "metadata": {},
   "outputs": [],
   "source": [
    "def get_slice_from_3d(data, distance, coord_name):\n",
    "    match coord_name:\n",
    "        case \"x\":\n",
    "            return data[:,:, distance]\n",
    "        case \"y\":\n",
    "            return data[:, distance, :]\n",
    "        case \"z\":\n",
    "            return data[distance, :, :]"
   ]
  },
  {
   "cell_type": "code",
   "execution_count": 19,
   "metadata": {},
   "outputs": [],
   "source": [
    "def get_slice_from_2d(data, distance, coord_name):\n",
    "    match coord_name:\n",
    "        case 1:\n",
    "            return data[:, distance]\n",
    "        case 2:\n",
    "            return data[distance, :]"
   ]
  },
  {
   "cell_type": "code",
   "execution_count": 20,
   "metadata": {},
   "outputs": [],
   "source": [
    "def get_moments_from_paths_2d(stat_xy_path, stat_xz_path, xy_files, xz_files):\n",
    "    global x_size, y_size, z_size, x_start\n",
    "    dist_list = []\n",
    "    mean_y_list = []\n",
    "    std_y_list = []\n",
    "    mean_z_list = []\n",
    "    std_z_list = []\n",
    "    \n",
    "    for i in range(len(xy_files)):\n",
    "        data_xy = read_data(stat_xy_path + xy_files[i])\n",
    "        \n",
    "        data_xz = read_data(stat_xz_path + xz_files[i])\n",
    "        \n",
    "        coord_x, coord_y = get_coords_from_np(data_xy, 2)\n",
    "        coord_x, coord_z = get_coords_from_np(data_xz, 2)\n",
    "\n",
    "        data_m_xy = get_matrix(data_xy[:, -1], [y_size, x_size]) # y, x\n",
    "        fig, ax = plt.subplots()\n",
    "    \n",
    "    # Create coordinate grids\n",
    "        grid_1, grid_2 = np.meshgrid(coord_x, coord_y)\n",
    "        grid_3, grid_4 = np.meshgrid(coord_x, coord_z)\n",
    "        \n",
    "        # Create the contour plot\n",
    "        levels = 50\n",
    "        contour = ax.contourf(grid_1, grid_2, data_m_xy,\n",
    "                            levels=levels,\n",
    "                            extend='both')\n",
    "        ax.set_yticks(np.linspace(0, np.max(coord_y), 50))\n",
    "        plt.savefig(\"xy.png\")        \n",
    "        \n",
    "        data_m_xz = get_matrix(data_xz[:, -1], [z_size, x_size]) # z, x \n",
    "        # contour = ax.contourf(grid_3, grid_4, data_m_xz,\n",
    "        #                     levels=levels,\n",
    "        #                     extend='both')\n",
    "        # plt.savefig(\"xz.png\")\n",
    "        \n",
    "        start_idx = np.where(coord_x > x_start)[0][0]\n",
    "        for idx in range(start_idx, len(coord_x)):\n",
    "            dist_list.append(coord_x[idx] - x_start)\n",
    "            slice_y = get_slice_from_2d(data_m_xy, idx, 1)\n",
    "            slice_z = get_slice_from_2d(data_m_xz, idx, 1)\n",
    "\n",
    "            mean_y, std_y = get_moments_from_1d(slice_y, coord_y)\n",
    "            mean_z, std_z = get_moments_from_1d(slice_z, coord_z)\n",
    "            \n",
    "            mean_y_list.append(mean_y)\n",
    "            std_y_list.append(std_y)\n",
    "            mean_z_list.append(mean_z)\n",
    "            std_z_list.append(std_z)\n",
    "    return dist_list, mean_y_list, std_y_list, mean_z_list, std_z_list"
   ]
  },
  {
   "cell_type": "code",
   "execution_count": 21,
   "metadata": {},
   "outputs": [],
   "source": [
    "def get_moments_from_paths_2d_test(data_xy, data_xz):\n",
    "    global x_size, y_size, z_size, x_start\n",
    "    dist_list = []\n",
    "    mean_y_list = []\n",
    "    std_y_list = []\n",
    "    mean_z_list = []\n",
    "    std_z_list = []\n",
    "    \n",
    "    \n",
    "    coord_x, coord_y = get_coords_from_np(data_xy, 2)\n",
    "    coord_x, coord_z = get_coords_from_np(data_xz, 2)\n",
    "\n",
    "    data_m_xy = get_matrix(data_xy[:, -1], [y_size, x_size]) # y, x\n",
    "    fig, ax = plt.subplots()\n",
    "\n",
    "# Create coordinate grids\n",
    "    grid_1, grid_2 = np.meshgrid(coord_x, coord_y)\n",
    "    grid_3, grid_4 = np.meshgrid(coord_x, coord_z)\n",
    "    \n",
    "    # Create the contour plot\n",
    "    levels = 50\n",
    "    contour = ax.contourf(grid_1, grid_2, data_m_xy,\n",
    "                        levels=levels,\n",
    "                        extend='both')\n",
    "    ax.set_yticks(np.linspace(0, np.max(coord_y), 50))\n",
    "    # plt.savefig(\"xy.png\")        \n",
    "    \n",
    "    data_m_xz = get_matrix(data_xz[:, -1], [z_size, x_size]) # z, x \n",
    "    # contour = ax.contourf(grid_3, grid_4, data_m_xz,\n",
    "    #                     levels=levels,\n",
    "    #                     extend='both')\n",
    "    # plt.savefig(\"xz.png\")\n",
    "    \n",
    "    start_idx = np.where(coord_x > x_start)[0][0]\n",
    "    for idx in range(start_idx, len(coord_x)):\n",
    "        dist_list.append(coord_x[idx] - x_start)\n",
    "        slice_y = get_slice_from_2d(data_m_xy, idx, 1)\n",
    "        slice_z = get_slice_from_2d(data_m_xz, idx, 1)\n",
    "\n",
    "        mean_y, std_y = get_moments_from_1d(slice_y, coord_y)\n",
    "        mean_z, std_z = get_moments_from_1d(slice_z, coord_z)\n",
    "        \n",
    "        mean_y_list.append(mean_y)\n",
    "        std_y_list.append(std_y)\n",
    "        mean_z_list.append(mean_z)\n",
    "        std_z_list.append(std_z)\n",
    "    return dist_list, mean_y_list, std_y_list, mean_z_list, std_z_list"
   ]
  },
  {
   "cell_type": "code",
   "execution_count": 22,
   "metadata": {},
   "outputs": [],
   "source": [
    "def get_moments_from_paths_3d(stat_path, files):\n",
    "    global x_size, y_size, z_size, x_start\n",
    "    dist_list = []\n",
    "    mean_y_list = []\n",
    "    std_y_list = []\n",
    "    mean_z_list = []\n",
    "    std_z_list = []\n",
    "    \n",
    "    for i in range(len(files)):\n",
    "        data = read_data(stat_path + files[i])\n",
    "        \n",
    "        coord_x, coord_y, coord_z = get_coords_from_np(data, 3)\n",
    "\n",
    "        data_m = get_matrix(data[:, -1], [z_size, y_size, x_size]) # z, y, x\n",
    "        start_idx = np.where(coord_x > x_start)[0][0]\n",
    "        for idx in range(start_idx, len(coord_x)):\n",
    "            dist_list.append(coord_x[idx] - x_start)\n",
    "            slice_yz = get_slice_from_3d(data_m, idx, \"x\") # z, y\n",
    "\n",
    "            mean_y, std_y, mean_z, std_z = get_moments_from_2d(slice_yz, coord_y, coord_z)\n",
    "            \n",
    "            mean_y_list.append(mean_y)\n",
    "            std_y_list.append(std_y)\n",
    "            mean_z_list.append(mean_z)\n",
    "            std_z_list.append(std_z)\n",
    "    return dist_list, mean_y_list, std_y_list, mean_z_list, std_z_list"
   ]
  },
  {
   "cell_type": "code",
   "execution_count": 23,
   "metadata": {},
   "outputs": [],
   "source": [
    "outputs_folder_names = get_folder_paths(folder_path_outputs, \"output*\")"
   ]
  },
  {
   "cell_type": "code",
   "execution_count": 24,
   "metadata": {},
   "outputs": [],
   "source": [
    "mean_y_list = []\n",
    "mean_z_list = []\n",
    "std_y_list = []\n",
    "std_z_list = []\n",
    "distances_list = []"
   ]
  },
  {
   "cell_type": "code",
   "execution_count": 28,
   "metadata": {},
   "outputs": [
    {
     "data": {
      "text/plain": [
       "['/app/nse/outputs/output_19_01_2025/output_2025_2_11_9_50_15']"
      ]
     },
     "execution_count": 28,
     "metadata": {},
     "output_type": "execute_result"
    }
   ],
   "source": [
    "outputs_folder_names[23:24]"
   ]
  },
  {
   "cell_type": "code",
   "execution_count": 22,
   "metadata": {},
   "outputs": [],
   "source": [
    "# for folder in outputs_folder_names:\n",
    "#     stat3d_path = folder + \"/stat-3d/\"\n",
    "#     stat3d_files = get_filenames(stat3d_path, r'^C\\[\\d+\\]-avg-\\.plt$')\n",
    "#     dist_tmp, mean_y_tmp, std_y_tmp, mean_z_tmp, std_z_tmp = get_moments_from_paths_3d(stat3d_path, stat3d_files)\n",
    "#     distances_list.extend(dist_tmp)\n",
    "#     mean_y_list.extend(mean_y_tmp)\n",
    "#     mean_z_list.extend(mean_z_tmp)\n",
    "#     std_y_list.extend(std_y_tmp)\n",
    "#     std_z_list.extend(std_z_tmp)"
   ]
  },
  {
   "cell_type": "code",
   "execution_count": 29,
   "metadata": {},
   "outputs": [
    {
     "name": "stdout",
     "output_type": "stream",
     "text": [
      "/app/nse/outputs/output_19_01_2025/output_2025_2_11_9_50_15/stat-2d-XZ/ ['C[1]-avg-.plt']\n"
     ]
    },
    {
     "data": {
      "image/png": "[encoded data removed]",
      "text/plain": [
       "<Figure size 640x480 with 1 Axes>"
      ]
     },
     "metadata": {},
     "output_type": "display_data"
    }
   ],
   "source": [
    "for folder in outputs_folder_names[23:24]:\n",
    "    stat2d_xy_path = folder + \"/stat-2d-XY/\"\n",
    "    stat2d_xy_files = get_filenames(stat2d_xy_path, r'^C\\[\\d+\\]-avg-\\.plt$')\n",
    "    stat2d_xy_files = stat2d_xy_files[1:2]\n",
    "    stat2d_xz_path = folder + \"/stat-2d-XZ/\"\n",
    "    stat2d_xz_files = get_filenames(stat2d_xy_path, r'^C\\[\\d+\\]-avg-\\.plt$')\n",
    "    stat2d_xz_files = stat2d_xz_files[1:2]\n",
    "    print(stat2d_xz_path, stat2d_xz_files)\n",
    "    dist_tmp, mean_y_tmp, std_y_tmp, mean_z_tmp, std_z_tmp = get_moments_from_paths_2d(stat2d_xy_path, stat2d_xz_path, stat2d_xy_files, stat2d_xz_files)\n",
    "    distances_list.extend(dist_tmp)\n",
    "    mean_y_list.extend(mean_y_tmp)\n",
    "    mean_z_list.extend(mean_z_tmp)\n",
    "    std_y_list.extend(std_y_tmp)\n",
    "    std_z_list.extend(std_z_tmp)"
   ]
  },
  {
   "cell_type": "code",
   "execution_count": 30,
   "metadata": {},
   "outputs": [],
   "source": [
    "# I_y = 0.88/(np.log(535.0822535184727/0.051296735157090066) - 1)\n",
    "# I_z = 0.5/(np.log(535.0822535184727/0.051296735157090066) - 1)\n",
    "I_y = 0.88/(np.log(356/0.053139) - 1)\n",
    "I_z = 0.5/(np.log(356/0.053139) - 1)\n",
    "std_y = I_y * np.asarray(distances_list)\n",
    "std_z = I_z * np.asarray(distances_list)"
   ]
  },
  {
   "cell_type": "code",
   "execution_count": 31,
   "metadata": {},
   "outputs": [
    {
     "data": {
      "text/plain": [
       "<matplotlib.legend.Legend at 0x7fb284da69b0>"
      ]
     },
     "execution_count": 31,
     "metadata": {},
     "output_type": "execute_result"
    },
    {
     "data": {
      "image/png": "[encoded data removed]",
      "text/plain": [
       "<Figure size 640x480 with 1 Axes>"
      ]
     },
     "metadata": {},
     "output_type": "display_data"
    }
   ],
   "source": [
    "plt.title(\"std_y\")\n",
    "plt.plot(distances_list, std_y_list, label = \"Результаты LES\")\n",
    "plt.plot(distances_list, std_y, \"r\", label = \"Эмпирика\")\n",
    "plt.legend()"
   ]
  },
  {
   "cell_type": "code",
   "execution_count": 120,
   "metadata": {},
   "outputs": [
    {
     "data": {
      "text/plain": [
       "49.81216236554132"
      ]
     },
     "execution_count": 120,
     "metadata": {},
     "output_type": "execute_result"
    }
   ],
   "source": [
    "np.max(np.abs(std_y - np.asarray(std_y_list)))"
   ]
  },
  {
   "cell_type": "code",
   "execution_count": 21,
   "metadata": {},
   "outputs": [],
   "source": [
    "features_pd = pd.read_csv(file_path_results + \"features.csv\")\n",
    "# features_pd[\"distances\"] = distances_list\n",
    "# features_pd.to_csv(file_path_results + \"features.csv\")"
   ]
  },
  {
   "cell_type": "code",
   "execution_count": 22,
   "metadata": {},
   "outputs": [],
   "source": [
    "target_pd = pd.DataFrame({\n",
    "                        \"c_mean_z\": mean_z_list,\n",
    "                        \"c_mean_y\":mean_y_list, \n",
    "                        \"c_std_z\": std_z_list,\n",
    "                        \"c_std_y\": std_y_list})\n",
    "target_pd.to_csv(file_path_results + \"target_full.csv\")"
   ]
  },
  {
   "cell_type": "code",
   "execution_count": 23,
   "metadata": {},
   "outputs": [],
   "source": [
    "num_distances = 96"
   ]
  },
  {
   "cell_type": "code",
   "execution_count": null,
   "metadata": {},
   "outputs": [],
   "source": [
    "plt.scatter(np.ones(num_distances)*features_pd.loc[0, \"y\"], target_pd[\"c_mean_y\"])\n",
    "plt.plot(np.ones(num_distances)*features_pd.loc[0, \"y\"], np.ones(num_distances)*features_pd.loc[0, \"y\"], \"--r\")"
   ]
  },
  {
   "cell_type": "code",
   "execution_count": null,
   "metadata": {},
   "outputs": [
    {
     "data": {
      "text/plain": [
       "1329.869770619532"
      ]
     },
     "execution_count": 30,
     "metadata": {},
     "output_type": "execute_result"
    }
   ],
   "source": [
    "features_pd"
   ]
  },
  {
   "cell_type": "code",
   "execution_count": null,
   "metadata": {},
   "outputs": [],
   "source": [
    "target_pd"
   ]
  },
  {
   "cell_type": "code",
   "execution_count": null,
   "metadata": {},
   "outputs": [],
   "source": [
    "features_pd = pd.read_csv(file_path_results + \"features.csv\")\n",
    "features_full = features_pd.loc(features_pd.index.repeat(num_distances)).reset_index(drop=True)\n",
    "features_full[\"distances\"] = distances_list\n",
    "features_full.to_csv(\"target_full.csv\", index=False)"
   ]
  },
  {
   "cell_type": "code",
   "execution_count": null,
   "metadata": {},
   "outputs": [],
   "source": [
    "target_pd[\"distances\"] = distances_list\n",
    "target_pd[\"_tmp_index\"] = target_pd.index\n",
    "target_pd_sort = target_pd.sort_values(by=[\"distances\", \"_tmp_index\"]) \n",
    "target_pd_sort = target_pd_sort.drop(columns=[\"_tmp_index\"])"
   ]
  },
  {
   "cell_type": "code",
   "execution_count": null,
   "metadata": {},
   "outputs": [],
   "source": [
    "for dist in np.unique(distances_list):\n",
    "    tmp_table = target_pd_sort[target_pd_sort.distances == dist].dropna().drop(columns=[\"distances\"])\n",
    "    tmp_table.to_csv(file_path_results + \"target-\" + str(dist).replace(\".\", \"_\") + \".csv\", index=False)"
   ]
  },
  {
   "cell_type": "code",
   "execution_count": 26,
   "metadata": {},
   "outputs": [],
   "source": [
    "test_x = np.arange(7.8125, 2000, 15.625)\n",
    "test_y = test_x.copy()\n",
    "test_z = np.arange(7.8125, 1000, 15.625)"
   ]
  },
  {
   "cell_type": "code",
   "execution_count": 46,
   "metadata": {},
   "outputs": [],
   "source": [
    "test_std_y = 0.1 * test_x\n",
    "test_std_z = 0.08 * test_x\n",
    "test_mean_y = 1000\n",
    "test_mean_z = 500\n",
    "x_start=0"
   ]
  },
  {
   "cell_type": "code",
   "execution_count": 47,
   "metadata": {},
   "outputs": [],
   "source": [
    "test_data = Gauss(test_x, test_y, test_z, test_std_y, test_std_z, test_mean_y, test_mean_z) # x, y, z"
   ]
  },
  {
   "cell_type": "code",
   "execution_count": 48,
   "metadata": {},
   "outputs": [],
   "source": [
    "test_data = np.array(test_data)\n",
    "test_data_pd = pd.DataFrame(test_data.T, columns=[\"x\", \"y\", \"z\", \"c\"])"
   ]
  },
  {
   "cell_type": "code",
   "execution_count": 49,
   "metadata": {},
   "outputs": [],
   "source": [
    "test_data_pd_xy = test_data_pd[['x', 'y', 'c']].groupby(['x', 'y'], sort=False)['c'].sum().reset_index().to_numpy()\n",
    "test_data_pd_xz = test_data_pd[['x', 'z', 'c']].groupby(['x', 'z'], sort=False)['c'].sum().reset_index().to_numpy()"
   ]
  },
  {
   "cell_type": "code",
   "execution_count": 61,
   "metadata": {},
   "outputs": [],
   "source": [
    "test_data_pd_0 = test_data_pd[test_data_pd[\"x\"] == 0]"
   ]
  },
  {
   "cell_type": "code",
   "execution_count": 63,
   "metadata": {},
   "outputs": [
    {
     "data": {
      "text/html": [
       "<div>\n",
       "<style scoped>\n",
       "    .dataframe tbody tr th:only-of-type {\n",
       "        vertical-align: middle;\n",
       "    }\n",
       "\n",
       "    .dataframe tbody tr th {\n",
       "        vertical-align: top;\n",
       "    }\n",
       "\n",
       "    .dataframe thead th {\n",
       "        text-align: right;\n",
       "    }\n",
       "</style>\n",
       "<table border=\"1\" class=\"dataframe\">\n",
       "  <thead>\n",
       "    <tr style=\"text-align: right;\">\n",
       "      <th></th>\n",
       "      <th>x</th>\n",
       "      <th>y</th>\n",
       "      <th>z</th>\n",
       "      <th>c</th>\n",
       "    </tr>\n",
       "  </thead>\n",
       "  <tbody>\n",
       "    <tr>\n",
       "      <th>0</th>\n",
       "      <td>7.8125</td>\n",
       "      <td>7.8125</td>\n",
       "      <td>7.8125</td>\n",
       "      <td>0.000000e+00</td>\n",
       "    </tr>\n",
       "    <tr>\n",
       "      <th>1</th>\n",
       "      <td>23.4375</td>\n",
       "      <td>7.8125</td>\n",
       "      <td>7.8125</td>\n",
       "      <td>0.000000e+00</td>\n",
       "    </tr>\n",
       "    <tr>\n",
       "      <th>2</th>\n",
       "      <td>39.0625</td>\n",
       "      <td>7.8125</td>\n",
       "      <td>7.8125</td>\n",
       "      <td>0.000000e+00</td>\n",
       "    </tr>\n",
       "    <tr>\n",
       "      <th>3</th>\n",
       "      <td>54.6875</td>\n",
       "      <td>7.8125</td>\n",
       "      <td>7.8125</td>\n",
       "      <td>0.000000e+00</td>\n",
       "    </tr>\n",
       "    <tr>\n",
       "      <th>4</th>\n",
       "      <td>70.3125</td>\n",
       "      <td>7.8125</td>\n",
       "      <td>7.8125</td>\n",
       "      <td>0.000000e+00</td>\n",
       "    </tr>\n",
       "    <tr>\n",
       "      <th>...</th>\n",
       "      <td>...</td>\n",
       "      <td>...</td>\n",
       "      <td>...</td>\n",
       "      <td>...</td>\n",
       "    </tr>\n",
       "    <tr>\n",
       "      <th>1048571</th>\n",
       "      <td>1929.6875</td>\n",
       "      <td>1992.1875</td>\n",
       "      <td>992.1875</td>\n",
       "      <td>6.021652e-14</td>\n",
       "    </tr>\n",
       "    <tr>\n",
       "      <th>1048572</th>\n",
       "      <td>1945.3125</td>\n",
       "      <td>1992.1875</td>\n",
       "      <td>992.1875</td>\n",
       "      <td>7.941042e-14</td>\n",
       "    </tr>\n",
       "    <tr>\n",
       "      <th>1048573</th>\n",
       "      <td>1960.9375</td>\n",
       "      <td>1992.1875</td>\n",
       "      <td>992.1875</td>\n",
       "      <td>1.040082e-13</td>\n",
       "    </tr>\n",
       "    <tr>\n",
       "      <th>1048574</th>\n",
       "      <td>1976.5625</td>\n",
       "      <td>1992.1875</td>\n",
       "      <td>992.1875</td>\n",
       "      <td>1.353258e-13</td>\n",
       "    </tr>\n",
       "    <tr>\n",
       "      <th>1048575</th>\n",
       "      <td>1992.1875</td>\n",
       "      <td>1992.1875</td>\n",
       "      <td>992.1875</td>\n",
       "      <td>1.749472e-13</td>\n",
       "    </tr>\n",
       "  </tbody>\n",
       "</table>\n",
       "<p>1048576 rows × 4 columns</p>\n",
       "</div>"
      ],
      "text/plain": [
       "                 x          y         z             c\n",
       "0           7.8125     7.8125    7.8125  0.000000e+00\n",
       "1          23.4375     7.8125    7.8125  0.000000e+00\n",
       "2          39.0625     7.8125    7.8125  0.000000e+00\n",
       "3          54.6875     7.8125    7.8125  0.000000e+00\n",
       "4          70.3125     7.8125    7.8125  0.000000e+00\n",
       "...            ...        ...       ...           ...\n",
       "1048571  1929.6875  1992.1875  992.1875  6.021652e-14\n",
       "1048572  1945.3125  1992.1875  992.1875  7.941042e-14\n",
       "1048573  1960.9375  1992.1875  992.1875  1.040082e-13\n",
       "1048574  1976.5625  1992.1875  992.1875  1.353258e-13\n",
       "1048575  1992.1875  1992.1875  992.1875  1.749472e-13\n",
       "\n",
       "[1048576 rows x 4 columns]"
      ]
     },
     "execution_count": 63,
     "metadata": {},
     "output_type": "execute_result"
    }
   ],
   "source": [
    "test_data_pd"
   ]
  },
  {
   "cell_type": "code",
   "execution_count": 53,
   "metadata": {},
   "outputs": [
    {
     "data": {
      "text/plain": [
       "[<matplotlib.lines.Line2D at 0x7f5d50f9e5c0>]"
      ]
     },
     "execution_count": 53,
     "metadata": {},
     "output_type": "execute_result"
    },
    {
     "data": {
      "image/png": "[encoded data removed]",
      "text/plain": [
       "<Figure size 640x480 with 1 Axes>"
      ]
     },
     "metadata": {},
     "output_type": "display_data"
    }
   ],
   "source": [
    "plt.title(\"x - test std, y - calculated std. std_y\")\n",
    "plt.scatter(test_std_y, std_y_tmp)\n",
    "plt.plot(test_std_y, test_std_y, \"--r\")"
   ]
  }
 ],
 "metadata": {
  "kernelspec": {
   "display_name": "Python 3",
   "language": "python",
   "name": "python3"
  },
  "language_info": {
   "codemirror_mode": {
    "name": "ipython",
    "version": 3
   },
   "file_extension": ".py",
   "mimetype": "text/x-python",
   "name": "python",
   "nbconvert_exporter": "python",
   "pygments_lexer": "ipython3",
   "version": "3.10.12"
  }
 },
 "nbformat": 4,
 "nbformat_minor": 2
}

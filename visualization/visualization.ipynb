{
 "cells": [
  {
   "cell_type": "code",
   "execution_count": 1,
   "metadata": {},
   "outputs": [],
   "source": [
    "import numpy as np\n",
    "import pandas as pd\n",
    "import matplotlib.pyplot as plt\n",
    "import plotly.graph_objects as go\n",
    "from matplotlib.colors import LinearSegmentedColormap\n",
    "import seaborn as sns"
   ]
  },
  {
   "cell_type": "code",
   "execution_count": 2,
   "metadata": {},
   "outputs": [],
   "source": [
    "import data_getter\n",
    "import outputs_reader\n",
    "import plot3d"
   ]
  },
  {
   "cell_type": "code",
   "execution_count": 3,
   "metadata": {},
   "outputs": [],
   "source": [
    "data_folder = \"for_visualization_05_02_2025/\"\n",
    "folder_path_outputs = '/app/nse/outputs/' + data_folder\n",
    "file_path_results = '/app/nse/py_code/results/' + data_folder"
   ]
  },
  {
   "cell_type": "code",
   "execution_count": 4,
   "metadata": {},
   "outputs": [],
   "source": [
    "x_size = 128\n",
    "y_size = 128\n",
    "z_size = 64\n",
    "x_lenght = 2000\n",
    "y_width = 2000\n",
    "z_height = 1000\n",
    "x_start = 500"
   ]
  },
  {
   "cell_type": "markdown",
   "metadata": {},
   "source": [
    "## Draw"
   ]
  },
  {
   "cell_type": "code",
   "execution_count": 5,
   "metadata": {},
   "outputs": [],
   "source": [
    "def plot_slice(slice_data, coord_1, coord_2, \n",
    "                          label_1=\"x\", label_2=\"y\",\n",
    "                          title=\"Concentration Map\",\n",
    "                          cutter=0,\n",
    "                          figsize=(8, 6),\n",
    "                          cmap='viridis',\n",
    "                          dpi=300,\n",
    "                          font_family='serif',\n",
    "                          font_size=12,\n",
    "                          colorbar_label='Concentration',\n",
    "                          output_path=None):\n",
    "    # Set the style\n",
    "    plt.style.use('seaborn-v0_8-white')\n",
    "    \n",
    "    # Create figure\n",
    "    fig, ax = plt.subplots(figsize=figsize, dpi=dpi)\n",
    "    \n",
    "    # Create coordinate grids\n",
    "    grid_1, grid_2 = np.meshgrid(coord_1, coord_2)\n",
    "    \n",
    "    # Create the contour plot\n",
    "    levels = 50\n",
    "    contour = ax.contourf(grid_1, grid_2, slice_data,\n",
    "                         levels=levels,\n",
    "                         cmap=cmap,\n",
    "                         extend='both')\n",
    "    \n",
    "    # Add a colorbar\n",
    "    cbar = plt.colorbar(contour, ax=ax)\n",
    "    cbar.set_label(colorbar_label, \n",
    "                   family=font_family, \n",
    "                   size=font_size)\n",
    "    \n",
    "    # Set font properties for all text elements\n",
    "    plt.rcParams['font.family'] = font_family\n",
    "    plt.rcParams['font.size'] = font_size\n",
    "    \n",
    "    # Set labels and title\n",
    "    ax.set_xlabel(label_1, family=font_family, size=font_size)\n",
    "    ax.set_ylabel(label_2, family=font_family, size=font_size)\n",
    "    ax.set_title(title, family=font_family, size=font_size * 1.2, pad=20)\n",
    "    \n",
    "    # Add grid\n",
    "    # ax.grid(True, linestyle='--', alpha=0.3)\n",
    "    \n",
    "    # Make the plot more tight\n",
    "    plt.tight_layout()\n",
    "    \n",
    "    # Save if output path is provided\n",
    "    if output_path:\n",
    "        plt.savefig(output_path, bbox_inches='tight', dpi=dpi)\n",
    "    else:\n",
    "        plt.savefig(\"slice.png\", bbox_inches='tight', dpi=dpi)\n",
    "    plt.show()"
   ]
  },
  {
   "cell_type": "code",
   "execution_count": null,
   "metadata": {},
   "outputs": [],
   "source": [
    "def get_moments_from_1d(slice, coord):\n",
    "    slice[slice<0]=0\n",
    "    sl_sum = np.sum(slice)\n",
    "    if sl_sum != 0:\n",
    "        slice = np.asarray(slice)/(np.sum(slice))\n",
    "    mean = np.sum(np.asarray(slice) * np.asarray(coord))\n",
    "    std_2 = np.sum((np.asarray(coord) - mean) **2 * np.asarray(slice))\n",
    "    std = np.sqrt(std_2)\n",
    "    return mean, std"
   ]
  },
  {
   "cell_type": "code",
   "execution_count": null,
   "metadata": {},
   "outputs": [],
   "source": [
    "def get_moments_from_2d(slice, coord_1, coord_2):\n",
    "    slice[slice<0]=0\n",
    "    slice_2 = np.array([np.sum(s) for s in slice])\n",
    "    slice_T = np.array(slice).T\n",
    "    slice_1 = np.array([np.sum(s) for s in slice_T])\n",
    "    mean_1, std_1 = get_moments_from_1d(slice_1, coord_1)\n",
    "    mean_2, std_2 = get_moments_from_1d(slice_2, coord_2)\n",
    "    return mean_1, std_1, mean_2, std_2"
   ]
  },
  {
   "cell_type": "code",
   "execution_count": null,
   "metadata": {},
   "outputs": [],
   "source": [
    "def get_moments_from_paths_2d(stat_xy_path, stat_xz_path, xy_files, xz_files):\n",
    "    global x_size, y_size, z_size, x_start\n",
    "    dist_list = []\n",
    "    mean_y_list = []\n",
    "    std_y_list = []\n",
    "    mean_z_list = []\n",
    "    std_z_list = []\n",
    "    \n",
    "    for i in range(len(xy_files)):\n",
    "        data_xy = outputs_reader.read_data(stat_xy_path + xy_files[i])\n",
    "        \n",
    "        data_xz = outputs_reader.read_data(stat_xz_path + xz_files[i])\n",
    "        \n",
    "        coord_x, coord_y = data_getter.get_coords_from_np(data_xy, 2)\n",
    "        coord_x, coord_z = data_getter.get_coords_from_np(data_xz, 2)\n",
    "\n",
    "        data_m_xy = data_getter.get_matrix(data_xy[:, -1], [y_size, x_size]) # y, x\n",
    "        data_m_xz = data_getter.get_matrix(data_xz[:, -1], [z_size, x_size]) # z, x \n",
    "        start_idx = np.where(coord_x > x_start)[0]\n",
    "        for idx in range(start_idx, len(coord_x)):\n",
    "            dist_list.append(coord_x[idx] - x_start)\n",
    "            slice_y = data_getter.get_slice_from_2d(data_m_xy, idx, 2)\n",
    "            slice_z = data_getter.get_slice_from_2d(data_m_xz, idx, 2)\n",
    "\n",
    "            mean_y, std_y = get_moments_from_1d(slice_y, coord_y)\n",
    "            mean_z, std_z = get_moments_from_1d(slice_z, coord_z)\n",
    "            \n",
    "            mean_y_list.append(mean_y)\n",
    "            std_y_list.append(std_y)\n",
    "            mean_z_list.append(mean_z)\n",
    "            std_z_list.append(std_z)\n",
    "    return dist_list, mean_y_list, std_y_list, mean_z_list, std_z_list"
   ]
  },
  {
   "cell_type": "code",
   "execution_count": 5,
   "metadata": {},
   "outputs": [],
   "source": [
    "def get_moments_from_paths_3d(stat_path, files):\n",
    "    global x_size, y_size, z_size, x_start\n",
    "    dist_list = []\n",
    "    mean_y_list = []\n",
    "    std_y_list = []\n",
    "    mean_z_list = []\n",
    "    std_z_list = []\n",
    "    \n",
    "    for i in range(len(files)):\n",
    "        data = outputs_reader.read_data(stat_path + files[i])\n",
    "        \n",
    "        coord_x, coord_y, coord_z = data_getter.get_coords_from_np(data, 3)\n",
    "\n",
    "        data_m = data_getter.get_matrix(data[:, -1], [z_size, y_size, x_size]) # z, y, x\n",
    "        start_idx = np.where(coord_x > x_start)[0]\n",
    "        for idx in range(start_idx, len(coord_x)):\n",
    "            dist_list.append(coord_x[idx] - x_start)\n",
    "            slice_yz = data_getter.get_slice_from_3d(data_m, idx, \"x\") # z, y\n",
    "\n",
    "            mean_y, std_y, mean_z, std_z = get_moments_from_2d(slice_yz, coord_y, coord_z)\n",
    "            \n",
    "            mean_y_list.append(mean_y)\n",
    "            std_y_list.append(std_y)\n",
    "            mean_z_list.append(mean_z)\n",
    "            std_z_list.append(std_z)\n",
    "    return dist_list, mean_y_list, std_y_list, mean_z_list, std_z_list"
   ]
  },
  {
   "cell_type": "code",
   "execution_count": 6,
   "metadata": {},
   "outputs": [],
   "source": [
    "outputs_folder_names = outputs_reader.get_folder_paths(folder_path_outputs, \"output*\")"
   ]
  },
  {
   "cell_type": "code",
   "execution_count": 34,
   "metadata": {},
   "outputs": [],
   "source": [
    "stat3d_path = outputs_folder_names[0] + '/stat-3d_0_9/'\n",
    "stat3d_files = outputs_reader.get_filenames(stat3d_path, r'^C\\[\\d+\\]-avg-\\.plt$')\n",
    "data = outputs_reader.read_data(stat3d_path + stat3d_files[0])"
   ]
  },
  {
   "cell_type": "code",
   "execution_count": 26,
   "metadata": {},
   "outputs": [],
   "source": [
    "data_3d = data[data[:, 3] > 5]\n",
    "data_3d[:, 3] = np.log(data_3d[:, 3])"
   ]
  },
  {
   "cell_type": "code",
   "execution_count": null,
   "metadata": {},
   "outputs": [],
   "source": [
    "fig = plot3d.plot_3d_scalar(data_3d, x_lenght, y_width, z_height)\n",
    "fig.show()"
   ]
  },
  {
   "cell_type": "code",
   "execution_count": 10,
   "metadata": {},
   "outputs": [],
   "source": [
    "fig.write_html(\"3d_mean_plot.html\")"
   ]
  },
  {
   "cell_type": "code",
   "execution_count": 35,
   "metadata": {},
   "outputs": [],
   "source": [
    "matrix_data = data_getter.get_matrix(data[:, 3], [z_size, y_size, x_size])\n",
    "coord_x, coord_y, coord_z = data_getter.get_coords_from_np(data, 3)"
   ]
  },
  {
   "cell_type": "code",
   "execution_count": 36,
   "metadata": {},
   "outputs": [],
   "source": [
    "matrix_data[matrix_data <= 0] = 0.0001\n",
    "matrix_data = np.log(matrix_data)\n",
    "matrix_data[matrix_data <= 0] = 0"
   ]
  },
  {
   "cell_type": "code",
   "execution_count": null,
   "metadata": {},
   "outputs": [],
   "source": [
    "plot_slice(matrix_data[10, :, :], coord_x, coord_y)"
   ]
  }
 ],
 "metadata": {
  "kernelspec": {
   "display_name": "nse",
   "language": "python",
   "name": "python3"
  },
  "language_info": {
   "codemirror_mode": {
    "name": "ipython",
    "version": 3
   },
   "file_extension": ".py",
   "mimetype": "text/x-python",
   "name": "python",
   "nbconvert_exporter": "python",
   "pygments_lexer": "ipython3",
   "version": "3.12.8"
  }
 },
 "nbformat": 4,
 "nbformat_minor": 2
}

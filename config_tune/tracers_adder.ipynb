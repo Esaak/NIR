{
 "cells": [
  {
   "cell_type": "code",
   "execution_count": 1,
   "metadata": {},
   "outputs": [],
   "source": [
    "import os\n",
    "import random\n",
    "import re\n",
    "import numpy as np\n",
    "import shutil\n",
    "import pandas as pd"
   ]
  },
  {
   "cell_type": "code",
   "execution_count": 2,
   "metadata": {},
   "outputs": [],
   "source": [
    "rng = np.random.default_rng(seed=152) # old number=42, "
   ]
  },
  {
   "cell_type": "code",
   "execution_count": 3,
   "metadata": {},
   "outputs": [],
   "source": [
    "def add_text_to_file(file_path, line_number, text_to_add):\n",
    "    # Read the contents of the file\n",
    "    with open(file_path, 'r') as file:\n",
    "        lines = file.readlines()\n",
    "\n",
    "    # Insert the new text at the specified line number\n",
    "    lines.insert(line_number - 1, text_to_add + '\\n')\n",
    "\n",
    "    # Write the modified contents back to the file\n",
    "    with open(file_path, 'w') as file:\n",
    "        file.writelines(lines)"
   ]
  },
  {
   "cell_type": "code",
   "execution_count": 4,
   "metadata": {},
   "outputs": [],
   "source": [
    "def change_lines(file_path, lines_to_change, changed_lines):\n",
    "    # Read the contents of the file\n",
    "    with open(file_path, 'r') as file:\n",
    "        lines = file.readlines()\n",
    "\n",
    "    i = 0\n",
    "    for idx, line in enumerate(lines):\n",
    "        if re.search(lines_to_change[i], line):\n",
    "            lines[idx] = changed_lines[i]\n",
    "            i+=1\n",
    "            if i == len(changed_lines):\n",
    "                break\n",
    "    if len(changed_lines) != i:\n",
    "        print(len(changed_lines) - i, \"lines not changed\")\n",
    "     \n",
    "    # Write the modified contents back to the file\n",
    "    with open(file_path, 'w') as file:\n",
    "        file.writelines(lines)"
   ]
  },
  {
   "cell_type": "code",
   "execution_count": 5,
   "metadata": {},
   "outputs": [],
   "source": [
    "# Get the current directory\n",
    "current_dir = os.getcwd()\n",
    "\n",
    "file_path_initial = \"/app/nse/resources/config-plume-ex.txt\"\n",
    "file_path_output = \"/app/nse/outputs/\"\n"
   ]
  },
  {
   "cell_type": "code",
   "execution_count": 6,
   "metadata": {},
   "outputs": [],
   "source": [
    "# Number of passive tracers\n",
    "n_files = 100\n",
    "N = 128"
   ]
  },
  {
   "cell_type": "code",
   "execution_count": 7,
   "metadata": {},
   "outputs": [],
   "source": [
    "# features\n",
    "\n",
    "# Size of model [m]\n",
    "Height_model_z = 1e3\n",
    "Length_model_x = 2e3\n",
    "Width_model_y  = 2e3\n",
    "\n",
    "x = Length_model_x * 0.25\n",
    "\n",
    "y_min = Width_model_y  * 0.3\n",
    "y_max = Width_model_y  * 0.7\n",
    "\n",
    "z_min = Height_model_z * 0.05\n",
    "z_mode = Height_model_z * 0.3\n",
    "z_max = Height_model_z * 0.7\n",
    "\n",
    "# Velocity x [m/s]\n",
    "u_min = 0.5\n",
    "u_max = 15\n",
    "# power of tracers\n",
    "p_min = 0.8\n",
    "p_max = 1.7\n",
    "# roughness [m]\n",
    "z0_min = 0.001\n",
    "z0_max = 0.07\n",
    "# field temperature [K]\n",
    "T0_min = 230\n",
    "T0_max = 300\n",
    "# value [K*m/s]\n",
    "value_min = -0.5\n",
    "value_max = -0.1\n",
    "# temperature gradient [K/m]\n",
    "gradz_min = 0.001\n",
    "gradz_max = 0.1\n"
   ]
  },
  {
   "cell_type": "code",
   "execution_count": 8,
   "metadata": {},
   "outputs": [],
   "source": [
    "y_list = []\n",
    "z_list = []\n",
    "u_list = []\n",
    "p_list = []\n",
    "z0_list = []\n",
    "T0_list = []\n",
    "value_list = []\n",
    "gradz_list = []"
   ]
  },
  {
   "cell_type": "code",
   "execution_count": 9,
   "metadata": {},
   "outputs": [],
   "source": [
    "# The initial line of the writing\n",
    "initial_line = 332\n",
    "lines_to_change = [\n",
    "    'U = 7.5; V = 0.0;',\n",
    "    'value = -0.35;',\n",
    "    'z0_m = 0.1;',\n",
    "    'surface_value = 241.0;',\n",
    "    'grad_z = 0.03;',\n",
    "    \"num = 1;\"\n",
    "]"
   ]
  },
  {
   "cell_type": "code",
   "execution_count": null,
   "metadata": {},
   "outputs": [],
   "source": []
  },
  {
   "cell_type": "code",
   "execution_count": 10,
   "metadata": {},
   "outputs": [
    {
     "name": "stdout",
     "output_type": "stream",
     "text": [
      "Text added successfully to /app/nse/outputs/config-plume-ex_99.txt at line 346.\n"
     ]
    }
   ],
   "source": [
    "\n",
    "for idx in range(n_files):\n",
    "\t\n",
    "\tfile_path = shutil.copyfile(file_path_initial, file_path_output + \"config-plume-ex_\" + str(idx) + \".txt\")\n",
    "\t\n",
    "\tu = rng.uniform(u_min, u_max)\n",
    "\tvalue = rng.uniform(value_min, value_max)\n",
    "\tz0_m = rng.uniform(z0_min, z0_max)\n",
    "\tT0 = rng.uniform(T0_min, T0_max)\n",
    "\tgradz = rng.uniform(gradz_min, gradz_max)\n",
    "\n",
    "\tlines_changed = [\n",
    "\t\tf'\tU = {u}; V = 0.0;\t\t\t# [m/s] \\n',\n",
    "\t\tf'\t\tvalue = {value};\t# sensible heat flux [K*m/s]\\n',\n",
    "\t\tf'\tz0_m = {z0_m};\t\t# aerodynamic roughness [m]\\n',\n",
    "\t\tf'\t\tsurface_value = {T0};\t# initial boundary layer temperature [K]\\n',\n",
    "\t\tf'\t\tgrad_z = {gradz};\t\t# temperature gradient above boundary layer [K/m]\\n',\n",
    "\t\tf'\tnum = {N};\t# number of tracers, skipped if not defined'\n",
    "\t]\n",
    "\tfor i in range(N, 0, -1):\n",
    "\t\tp = rng.uniform(p_min, p_max)\n",
    "\t\ty = rng.uniform(y_min, y_max)\n",
    "\t\tz = rng.triangular(z_min, z_mode, z_max)\n",
    "\t\t\n",
    "\t\ty_list.append(y)\n",
    "\t\tz_list.append(z)\n",
    "\t\tu_list.append(u)\n",
    "\t\tvalue_list.append(value)\n",
    "\t\tz0_list.append(z0_m)\n",
    "\t\tT0_list.append(T0)\n",
    "\t\tgradz_list.append(gradz)\n",
    "\t\tp_list.append(p)\n",
    "\n",
    "\t\t# Define the text to add\n",
    "\t\ttext_to_add = f\"\"\"\n",
    "\ttracer_{i} {{ \n",
    "\t\tdiffusivity = phys.xi;\n",
    "\n",
    "\t\tsurface {{ \n",
    "\t\t\tflux = 0.0;\n",
    "\t\t}}\n",
    "\n",
    "\t\t# --- point emission source [optional]\n",
    "\t\tpoint_emission {{\n",
    "\t\t\ttype = \"gaussian\";\t\t# \"gaussian\" || \"box\"\n",
    "\n",
    "\t\t\t# --- source intensity [ppb * m^3 / s]\n",
    "\t\t\tvalue = {p} * (2.0 / 3.14) * (1.0 / 2.46) * 1000.0 * 1000.0 * 100.0;\n",
    "\n",
    "\t\t\t# --- active in [begin, end], [time.begin, time.end] if not defined\n",
    "\t\t\tbegin = 0.5 * 3600.0;\t# [s]\n",
    "\n",
    "\t\t\txpos = domain.x + 0.25 * domain.length;\t\t# [m]\n",
    "\t\t\typos = domain.y + {y};\t\t# [m]\n",
    "\t\t\tzpos = {z};\t\t# [m]\n",
    "\t\t\t\n",
    "\t\t\tsx = 50.0;\t\t# [m]\n",
    "\t\t\tsy = 50.0;\t\t# [m]\n",
    "\t\t\tsz = 25.0;\t\t# [m]\n",
    "\n",
    "\t\t\t# --- OR set 'box'\n",
    "\t\t\t# type = \"box\";\n",
    "\t\t\t\n",
    "\t\t\t# xmin = 450.0; xmax = 550.0;\t# [m]\n",
    "\t\t\t# ymin = 450.0; ymax = 550.0;\t# [m]\n",
    "\t\t\t# zmin = 50.0; zmax = 250.0;\t# [m]\n",
    "\t\t}}\n",
    "\n",
    "\t\t# --- boundary conditions [optional]\n",
    "\t\tboundary_conditions\n",
    "\t\t{{\n",
    "\t\t\t# --- default: -xy periodic & neumann (= 0) at top and bottom\n",
    "\t\t\twest {{ type = \"inout\"; rhs = 0.0; }}\n",
    "\t\t\teast {{ type = \"inout\"; rhs = 0.0; }}\n",
    "\t\t\tsouth {{ type = \"inout\"; rhs = 0.0; }}\n",
    "\t\t\tnorth {{ type = \"inout\"; rhs = 0.0; }}\n",
    "\t\t}}\n",
    "\n",
    "\t\t# --- sedimentation & deposition [optional, default = false]\n",
    "\t\t# \t--- require density & diameter setup\n",
    "\t\t# is_sedimentation = false;\n",
    "\t\t# is_dry_deposition = false;\n",
    "\t\t# is_wet_deposition = false;\n",
    "\t\t# density = 10.0 * 1000.0;\t# [kg / m^3]\n",
    "\t\t# diameter = 10.0 * 0.000001;\t# [m]\n",
    "\t\t\n",
    "\t\t# --- min limit [optional, default = none]\n",
    "\t\t# min_value = 0.0;\n",
    "\t}}\n",
    "\t\t\"\"\"\n",
    "\t\t\n",
    "\t\t# Add the text to initial line\n",
    "\t\tadd_text_to_file(file_path, initial_line, text_to_add)\n",
    "\tchange_lines(file_path, lines_to_change, lines_changed)\n",
    "print(f\"Text added successfully to {file_path} at line 346.\")"
   ]
  },
  {
   "cell_type": "code",
   "execution_count": 11,
   "metadata": {},
   "outputs": [],
   "source": [
    "features_pd = pd.DataFrame({\"y\": y_list,\n",
    "                            \"z\": z_list,\n",
    "                            \"u\": u_list,\n",
    "                            \"power\":p_list,\n",
    "                            \"roughness\": z0_list,\n",
    "                            \"T\": T0_list,\n",
    "                            \"sensible_heat_flux\":value_list,\n",
    "                            \"T_grad\":gradz_list})\n",
    "features_pd.to_csv(\"features.csv\", index=False)"
   ]
  }
 ],
 "metadata": {
  "kernelspec": {
   "display_name": "nse",
   "language": "python",
   "name": "python3"
  },
  "language_info": {
   "codemirror_mode": {
    "name": "ipython",
    "version": 3
   },
   "file_extension": ".py",
   "mimetype": "text/x-python",
   "name": "python",
   "nbconvert_exporter": "python",
   "pygments_lexer": "ipython3",
   "version": "3.12.8"
  }
 },
 "nbformat": 4,
 "nbformat_minor": 2
}
